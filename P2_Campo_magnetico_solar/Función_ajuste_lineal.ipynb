{
 "metadata": {
  "name": "",
  "signature": "sha256:cc31b1266df67d9a4885142b67a8a2f970654668796289dcd8e4e4a8552dc44c"
 },
 "nbformat": 3,
 "nbformat_minor": 0,
 "worksheets": [
  {
   "cells": [
    {
     "cell_type": "code",
     "collapsed": false,
     "input": [
      "%pylab inline\n",
      "import pyfits\n",
      "from scipy.optimize import curve_fit\n",
      "\n",
      "datos = pyfits.open('hmi.m_45s.magnetogram.subregion_x1y1.fits')\n",
      "cols = datos[0].data\n",
      "#arreglo para el tiempo\n",
      "tiempo=np.genfromtxt('times_delta.csv', delimiter=',')\n"
     ],
     "language": "python",
     "metadata": {},
     "outputs": [
      {
       "output_type": "stream",
       "stream": "stdout",
       "text": [
        "Populating the interactive namespace from numpy and matplotlib\n"
       ]
      },
      {
       "output_type": "stream",
       "stream": "stderr",
       "text": [
        "WARNING: pylab import has clobbered these variables: ['f', 'info']\n",
        "`%matplotlib` prevents importing * from pylab and numpy\n"
       ]
      }
     ],
     "prompt_number": 19
    },
    {
     "cell_type": "markdown",
     "metadata": {},
     "source": [
      "###Modelo lineal\n",
      "$$B(t)=a+Bt$$\n",
      "$$a\\sim[-200,200]$$\n",
      "$$b\\sim[-1,1]$$\n",
      "Implemento correcciones para mejorar los ajustes:\n",
      "$$a_0 =\\bar{c}\\pm \\sigma/2$$\n",
      "$$b_0 =\\frac{c_n-c_0}{t_n-t_0}\\pm \\sigma/2$$"
     ]
    },
    {
     "cell_type": "code",
     "collapsed": false,
     "input": [
      "#def modelo lineal\n",
      "def modelo_lineal(t_obs,a,b):\n",
      "    return a + b*t_obs\n",
      "\n",
      "#funcion de likelihood lineal, sin exp\n",
      "def likelihood(y_obs,y_m):\n",
      "    chi_cuadrado= (1.0/2.0)*sum((y_obs-y_m)**2) # Se esta asumiendo que los sigmas = 1\n",
      "    return -chi_cuadrado"
     ],
     "language": "python",
     "metadata": {},
     "outputs": [],
     "prompt_number": 21
    },
    {
     "cell_type": "code",
     "collapsed": false,
     "input": [
      "#coordenadas del pixel seleccionado\n",
      "\n",
      "x = [2*i+1 for i in range(100)]\n",
      "y = [ i +2 for i in range(100)]"
     ],
     "language": "python",
     "metadata": {},
     "outputs": [],
     "prompt_number": 22
    },
    {
     "cell_type": "code",
     "collapsed": false,
     "input": [
      "#MCMC modelo lineal\n",
      "\n",
      "#modelo lineal con funci\u00f3n\n",
      "def mcmc_modelo_lineal(z, campo_m):\n",
      "    dd = std(campo)\n",
      "    mm = mean(campo)\n",
      "    nn = (campo[-1]-campo[0])/(tiempo[-1]-tiempo[0])\n",
      "\n",
      "    a_walk = empty((0))\n",
      "    b_walk = empty((0))\n",
      "    like_walk = empty((0))\n",
      "    a_walk = np.append(a_walk,random.random()*2.0*dd +mm-1.0*dd)\n",
      "    b_walk = np.append(b_walk,random.random()*2.0*dd +nn-1.0*dd)\n",
      "    \n",
      "    #y inicial\n",
      "    y_i = modelo_lineal(z, a_walk[0],b_walk[0])\n",
      "\n",
      "    #areglo con la funci\u00f3n de likelikelihood\n",
      "    like_walk= np.append(like_walk,likelihood(campo_m,y_i))\n",
      "    \n",
      "    iteraciones = 20000\n",
      "    \n",
      "    for i in range(iteraciones):\n",
      "        a_prime = random.normal(a_walk[i], 2.0*dd) \n",
      "        b_prime = random.normal(b_walk[i], 2.0*dd)\n",
      "\n",
      "        y_init = modelo_lineal(z, a_walk[i], b_walk[i])\n",
      "        y_prime = modelo_lineal(z, a_prime, b_prime)\n",
      "    \n",
      "        like_prime = likelihood(campo_m, y_prime)\n",
      "        like_init = likelihood(campo_m, y_init)\n",
      "    \n",
      "        alpha = like_prime-like_init #ya estan en logaritmicos\n",
      "        if(alpha>=0.0):\n",
      "            a_walk  = append(a_walk,a_prime)\n",
      "            b_walk  = append(b_walk,b_prime)\n",
      "            like_walk = append(like_walk, like_prime)\n",
      "        else:\n",
      "            beta = log(random.random())\n",
      "            if(beta<=alpha):\n",
      "                a_walk = append(a_walk,a_prime)\n",
      "                b_walk = append(b_walk,b_prime)\n",
      "                like_walk = append(like_walk, like_prime)\n",
      "            else:\n",
      "                a_walk = append(a_walk,a_walk[i])\n",
      "                b_walk = append(b_walk,b_walk[i])\n",
      "                like_walk = append(like_walk, like_init)\n",
      "                \n",
      "                \n",
      "    return a_walk, b_walk, like_walk\n",
      "    "
     ],
     "language": "python",
     "metadata": {},
     "outputs": [],
     "prompt_number": 23
    },
    {
     "cell_type": "code",
     "collapsed": false,
     "input": [
      "#funcion del fit lineal\n",
      "\n",
      "def fit_lineal(like, a, b):\n",
      "    max_likelihood_id = argmax(like)\n",
      "    best_like = like[max_likelihood_id]\n",
      "    best_a = a[max_likelihood_id]\n",
      "    best_b = b[max_likelihood_id]\n",
      "    best_campo = modelo_lineal(tiempo, best_a, best_b)\n",
      "    \n",
      "    return best_a, best_b, best_campo, best_like"
     ],
     "language": "python",
     "metadata": {},
     "outputs": [],
     "prompt_number": 24
    },
    {
     "cell_type": "code",
     "collapsed": false,
     "input": [
      "#iteracion de los n pixeles\n",
      "\n",
      "titulo = 'Ajuste Lineal'\n",
      "info = \"x,y son las coordenas del pixel analizado en el archivo 'hmi.m_45s.magnetogram.subregion_x1y1.fits'. best_b y best_a son los parametros de maximo likelihood para el modelo lineal\"\n",
      "heading = 'x,y,best_likelihood,best_a,best_b' #modificar cada parametro\n",
      "f = open('Modelo_lineal.csv','w')\n",
      "f.write(titulo+'\\n')\n",
      "f.write(info+'\\n')\n",
      "f.write(heading+'\\n')\n",
      "\n",
      "n=2\n",
      "for i in range(n):\n",
      "    campo=cols[:,x[i],y[i]]\n",
      "    \n",
      "    a_walk, b_walk, like_walk=mcmc_modelo_lineal(tiempo, campo)\n",
      "\n",
      "    best_a, best_b, best_campo, best_like=fit_lineal(like_walk, a_walk, b_walk)\n",
      "    \n",
      "    f.write(str(x[i]) + ',' + str(y[i]) + ',' + '%.7f'%best_like + ',' + '%.7f'%best_a + ',' + '%.7f'%best_b + '\\n')\n",
      "    \n",
      "    plot(tiempo,best_campo,'g-')\n",
      "    plot(tiempo,campo,'bo')\n",
      "    show()\n",
      "f.close()"
     ],
     "language": "python",
     "metadata": {},
     "outputs": [
      {
       "metadata": {},
       "output_type": "display_data",
       "png": "[encoded data removed]",
       "text": [
        "<matplotlib.figure.Figure at 0xae33952c>"
       ]
      },
      {
       "metadata": {},
       "output_type": "display_data",
       "png": "[encoded data removed]",
       "text": [
        "<matplotlib.figure.Figure at 0xae28c0cc>"
       ]
      }
     ],
     "prompt_number": 27
    },
    {
     "cell_type": "code",
     "collapsed": false,
     "input": [
      "!head Modelo_lineal.csv"
     ],
     "language": "python",
     "metadata": {},
     "outputs": [
      {
       "output_type": "stream",
       "stream": "stdout",
       "text": [
        "Ajuste Lineal\r\n",
        "x,y son las coordenas del pixel analizado en el archivo 'hmi.m_45s.magnetogram.subregion_x1y1.fits'. best_b y best_a son los parametros de maximo likelihood para el modelo lineal\r\n",
        "x,y,best_likelihood,best_a,best_b\r\n",
        "1,2,-4204.7791914,16.5268627,0.0045384\r\n",
        "3,3,-4618.9478072,38.2953063,-0.0530680\r\n"
       ]
      }
     ],
     "prompt_number": 30
    },
    {
     "cell_type": "code",
     "collapsed": false,
     "input": [],
     "language": "python",
     "metadata": {},
     "outputs": []
    }
   ],
   "metadata": {}
  }
 ]
}