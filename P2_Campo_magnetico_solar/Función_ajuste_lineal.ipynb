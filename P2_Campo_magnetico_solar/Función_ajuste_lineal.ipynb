{
 "metadata": {
  "name": "",
  "signature": "sha256:4fea5def41e594cc8014bd40c8e55543c1815756a62e04b2b871c6e502650ae1"
 },
 "nbformat": 3,
 "nbformat_minor": 0,
 "worksheets": [
  {
   "cells": [
    {
     "cell_type": "code",
     "collapsed": false,
     "input": [
      "%pylab inline\n",
      "import pyfits\n",
      "from scipy.optimize import curve_fit\n",
      "\n",
      "datos = pyfits.open('hmi.m_45s.magnetogram.subregion_x1y1.fits')\n",
      "cols = datos[0].data\n",
      "#arreglo para el tiempo\n",
      "tiempo=np.genfromtxt('times_delta.csv', delimiter=',')\n"
     ],
     "language": "python",
     "metadata": {},
     "outputs": [
      {
       "output_type": "stream",
       "stream": "stdout",
       "text": [
        "Populating the interactive namespace from numpy and matplotlib\n"
       ]
      },
      {
       "output_type": "stream",
       "stream": "stderr",
       "text": [
        "WARNING: pylab import has clobbered these variables: ['f', 'info']\n",
        "`%matplotlib` prevents importing * from pylab and numpy\n"
       ]
      }
     ],
     "prompt_number": 8
    },
    {
     "cell_type": "markdown",
     "metadata": {},
     "source": [
      "###Modelo lineal\n",
      "$$B(t)=a+Bt$$\n",
      "$$a\\sim[-200,200]$$\n",
      "$$b\\sim[-1,1]$$\n",
      "Implemento correcciones para mejorar los ajustes:\n",
      "$$a_0 =\\bar{c}\\pm \\sigma/2$$\n",
      "$$b_0 =\\frac{c_n-c_0}{t_n-t_0}\\pm \\sigma/2$$"
     ]
    },
    {
     "cell_type": "code",
     "collapsed": false,
     "input": [
      "#def modelo lineal\n",
      "def modelo_lineal(t_obs,a,b):\n",
      "    return a + b*t_obs\n",
      "\n",
      "#funcion de likelihood lineal, sin exp\n",
      "def likelihood(y_obs,y_m):\n",
      "    chi_cuadrado= (1.0/2.0)*sum((y_obs-y_m)**2) # Se esta asumiendo que los sigmas = 1\n",
      "    return -chi_cuadrado"
     ],
     "language": "python",
     "metadata": {},
     "outputs": [],
     "prompt_number": 9
    },
    {
     "cell_type": "code",
     "collapsed": false,
     "input": [
      "#coordenadas del pixel seleccionado\n",
      "\n",
      "x = [2*i+1 for i in range(100)]\n",
      "y = [ i +2 for i in range(100)]"
     ],
     "language": "python",
     "metadata": {},
     "outputs": [],
     "prompt_number": 10
    },
    {
     "cell_type": "code",
     "collapsed": false,
     "input": [
      "#MCMC modelo lineal\n",
      "\n",
      "#modelo lineal con funci\u00f3n\n",
      "def mcmc_modelo_lineal(z, campo_m):\n",
      "    dd = std(campo)\n",
      "    mm = mean(campo)\n",
      "    nn = (campo[-1]-campo[0])/(tiempo[-1]-tiempo[0])\n",
      "\n",
      "    a_walk = empty((0))\n",
      "    b_walk = empty((0))\n",
      "    like_walk = empty((0))\n",
      "    a_walk = np.append(a_walk,random.random()*2.0*dd +mm-1.0*dd)\n",
      "    b_walk = np.append(b_walk,random.random()*2.0*dd +nn-1.0*dd)\n",
      "    \n",
      "    #y inicial\n",
      "    y_i = modelo_lineal(z, a_walk[0],b_walk[0])\n",
      "\n",
      "    #areglo con la funci\u00f3n de likelikelihood\n",
      "    like_walk= np.append(like_walk,likelihood(campo_m,y_i))\n",
      "    \n",
      "    iteraciones = 20000\n",
      "    \n",
      "    for i in range(iteraciones):\n",
      "        a_prime = random.normal(a_walk[i], 2.0*dd) \n",
      "        b_prime = random.normal(b_walk[i], 2.0*dd)\n",
      "\n",
      "        y_init = modelo_lineal(z, a_walk[i], b_walk[i])\n",
      "        y_prime = modelo_lineal(z, a_prime, b_prime)\n",
      "    \n",
      "        like_prime = likelihood(campo_m, y_prime)\n",
      "        like_init = likelihood(campo_m, y_init)\n",
      "    \n",
      "        alpha = like_prime-like_init #ya estan en logaritmicos\n",
      "        if(alpha>=0.0):\n",
      "            a_walk  = append(a_walk,a_prime)\n",
      "            b_walk  = append(b_walk,b_prime)\n",
      "            like_walk = append(like_walk, like_prime)\n",
      "        else:\n",
      "            beta = log(random.random())\n",
      "            if(beta<=alpha):\n",
      "                a_walk = append(a_walk,a_prime)\n",
      "                b_walk = append(b_walk,b_prime)\n",
      "                like_walk = append(like_walk, like_prime)\n",
      "            else:\n",
      "                a_walk = append(a_walk,a_walk[i])\n",
      "                b_walk = append(b_walk,b_walk[i])\n",
      "                like_walk = append(like_walk, like_init)\n",
      "                \n",
      "                \n",
      "    return a_walk, b_walk, like_walk\n",
      "    "
     ],
     "language": "python",
     "metadata": {},
     "outputs": [],
     "prompt_number": 11
    },
    {
     "cell_type": "code",
     "collapsed": false,
     "input": [
      "#funcion del fit lineal\n",
      "\n",
      "def fit_lineal(like, a, b):\n",
      "    max_likelihood_id = argmax(like)\n",
      "    best_like = like[max_likelihood_id]\n",
      "    best_a = a[max_likelihood_id]\n",
      "    best_b = b[max_likelihood_id]\n",
      "    best_campo = modelo_lineal(tiempo, best_a, best_b)\n",
      "    \n",
      "    return best_a, best_b, best_campo, best_like"
     ],
     "language": "python",
     "metadata": {},
     "outputs": [],
     "prompt_number": 12
    },
    {
     "cell_type": "code",
     "collapsed": false,
     "input": [
      "#iteracion de los n pixeles\n",
      "\n",
      "titulo = 'Ajuste Lineal'\n",
      "info = \"x,y son las coordenas del pixel analizado en el archivo 'hmi.m_45s.magnetogram.subregion_x1y1.fits'. best_b y best_a son los parametros de maximo likelihood para el modelo lineal\"\n",
      "heading = 'x,y,best_likelihood,best_a,best_b' #modificar cada parametro\n",
      "f = open('Modelo_Lineal.csv','w')\n",
      "f.write(titulo+'\\n')\n",
      "f.write(info+'\\n')\n",
      "f.write(heading+'\\n')\n",
      "\n",
      "n=20\n",
      "for i in range(n):\n",
      "    campo=cols[:,x[i],y[i]]\n",
      "    \n",
      "    a_walk, b_walk, like_walk=mcmc_modelo_lineal(tiempo, campo)\n",
      "\n",
      "    best_a, best_b, best_campo, best_like=fit_lineal(like_walk, a_walk, b_walk)\n",
      "    \n",
      "    f.write(str(x[i]) + ',' + str(y[i]) + ',' + '%.7f'%best_like + ',' + '%.7f'%best_a + ',' + '%.7f'%best_b + '\\n')\n",
      "    \n",
      "    #plot(tiempo,best_campo,'g-')\n",
      "    #plot(tiempo,campo,'bo')\n",
      "    #show()\n",
      "f.close()"
     ],
     "language": "python",
     "metadata": {},
     "outputs": [],
     "prompt_number": 13
    },
    {
     "cell_type": "code",
     "collapsed": false,
     "input": [
      "!cat Modelo_Lineal.csv\n",
      "!wc Modelo_Lineal.csv"
     ],
     "language": "python",
     "metadata": {},
     "outputs": [
      {
       "output_type": "stream",
       "stream": "stdout",
       "text": [
        "Ajuste Lineal\r\n",
        "x,y son las coordenas del pixel analizado en el archivo 'hmi.m_45s.magnetogram.subregion_x1y1.fits'. best_b y best_a son los parametros de maximo likelihood para el modelo lineal\r\n",
        "x,y,best_likelihood,best_a,best_b\r\n",
        "1,2,-5317.8672469,20.5347151,0.0027965\r\n",
        "3,3,-4725.6097137,39.7389443,-0.0482455\r\n",
        "5,4,-28950.2709017,74.4431820,-0.1734295\r\n",
        "7,5,-27400.8855893,65.7287431,-0.1744863\r\n",
        "9,6,-14121.9806370,50.8522057,-0.1437804\r\n",
        "11,7,-3169.7207354,26.3806964,-0.0337423\r\n",
        "13,8,-6352.2279292,16.2623765,-0.0044973\r\n",
        "15,9,-11675.7906116,24.8184616,0.0090793\r\n",
        "17,10,-38171.8077048,40.3153554,0.0033069\r\n",
        "19,11,-14638.4930120,60.7786847,-0.0992907\r\n",
        "21,12,-5351.5122421,44.5975823,-0.0278051\r\n",
        "23,13,-6141.2083065,31.5015095,-0.0041819\r\n",
        "25,14,-10583.0854098,41.6055578,-0.0750570\r\n",
        "27,15,-8581.8607176,21.8326273,-0.0311125\r\n",
        "29,16,-5139.7022077,15.1672427,-0.0338251\r\n",
        "31,17,-3795.5543885,16.7135626,-0.0603397\r\n",
        "33,18,-8184.9655034,7.4652383,-0.0614646\r\n",
        "35,19,-11217.4568481,4.6699771,-0.0596457\r\n",
        "37,20,-13419.7779632,6.6923492,-0.0607374\r\n",
        "39,21,-30965.5031581,1.1392090,-0.0753058\r\n"
       ]
      },
      {
       "output_type": "stream",
       "stream": "stdout",
       "text": [
        "  23   47 1057 Modelo_Lineal.csv\r\n"
       ]
      }
     ],
     "prompt_number": 17
    },
    {
     "cell_type": "code",
     "collapsed": false,
     "input": [],
     "language": "python",
     "metadata": {},
     "outputs": []
    }
   ],
   "metadata": {}
  }
 ]
}