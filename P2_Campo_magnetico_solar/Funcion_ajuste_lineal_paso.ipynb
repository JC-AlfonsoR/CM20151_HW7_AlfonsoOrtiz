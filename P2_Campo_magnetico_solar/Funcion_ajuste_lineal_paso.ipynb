{
 "metadata": {
  "name": "",
  "signature": "sha256:117b77112ff59e43c3ea114f92327b4b506bc6f544185751ef9b39c08c1d450c"
 },
 "nbformat": 3,
 "nbformat_minor": 0,
 "worksheets": [
  {
   "cells": [
    {
     "cell_type": "code",
     "collapsed": false,
     "input": [
      "%pylab inline\n",
      "import pyfits\n",
      "from scipy.optimize import curve_fit\n",
      "\n",
      "datos = pyfits.open('hmi.m_45s.magnetogram.subregion_x1y1.fits')\n",
      "cols = datos[0].data\n",
      "#arreglo para el tiempo\n",
      "tiempo=np.genfromtxt('times_delta.csv', delimiter=',')\n",
      "#coordenadas del pixel seleccionado\n",
      "\n",
      "\n",
      "x = [2*i+1 for i in range(100)]\n",
      "y = [ i +2 for i in range(100)]\n",
      "\n"
     ],
     "language": "python",
     "metadata": {},
     "outputs": [
      {
       "output_type": "stream",
       "stream": "stdout",
       "text": [
        "Populating the interactive namespace from numpy and matplotlib\n"
       ]
      },
      {
       "output_type": "stream",
       "stream": "stderr",
       "text": [
        "WARNING: pylab import has clobbered these variables: ['f', 'info']\n",
        "`%matplotlib` prevents importing * from pylab and numpy\n"
       ]
      }
     ],
     "prompt_number": 8
    },
    {
     "cell_type": "markdown",
     "metadata": {},
     "source": [
      "###Lineal-paso\n",
      "$$B(t)=f+gt+h\\left(1+\\frac{2}{\\pi}tan^{-1}\\left(n(t-t_0)\\right)\\right)$$"
     ]
    },
    {
     "cell_type": "code",
     "collapsed": false,
     "input": [
      "def paso(t,f,g,h,n,t0):\n",
      "    return f + g*t + h*(1 + 2/pi*arctan(n*(t-t0)))\n",
      "#funcion de likelihood lineal, sin exp\n",
      "def likelihood(y_obs,y_m):\n",
      "    chi_cuadrado= (1.0/2.0)*sum((y_obs-y_m)**2) # Se esta asumiendo que los sigmas = 1\n",
      "    return -chi_cuadrado"
     ],
     "language": "python",
     "metadata": {},
     "outputs": [],
     "prompt_number": 9
    },
    {
     "cell_type": "code",
     "collapsed": false,
     "input": [
      "def mcmc_lineal_paso(tiempo, campo):\n",
      "\n",
      "    f_walk = empty((0))\n",
      "    g_walk = empty((0))\n",
      "    h_walk = empty((0))\n",
      "    n_walk = empty((0))\n",
      "    t0_walk = empty((0))\n",
      "    like_walk = empty((0))\n",
      "\n",
      "    mm = mean(campo)\n",
      "    dd = std(campo)\n",
      "    nn = (campo[-1]-campo[0])/(tiempo[-1]-tiempo[0])\n",
      "    mm_t = mean(tiempo)\n",
      "\n",
      "\n",
      "    f_walk = append(f_walk,random.random()*200-100)\n",
      "    g_walk = append(g_walk,random.random()*2.0 - 1.0)\n",
      "    h_walk = append(h_walk,random.random()*150.0 - 75.0)\n",
      "    n_walk = append(n_walk,random.random()/100)\n",
      "    t0_walk = append(t0_walk,random.random()*270+80) # t0 entre 80 y 350\n",
      "\n",
      "    y_i = paso(tiempo, f_walk[0], g_walk[0], h_walk[0], n_walk[0], t0_walk[0]) # y inicial\n",
      "    like_walk = append(like_walk,likelihood(campo,y_i)) # likelyhood\n",
      "   \n",
      "    iteraciones = 20000\n",
      "    for i in range(iteraciones):\n",
      "        f_prime = random.normal(f_walk[i],100)# 2.0*dd) \n",
      "        g_prime = random.normal(g_walk[i],0.5)# 2.0*dd)\n",
      "        h_prime = random.normal(h_walk[i],30.0)# 50)\n",
      "        n_prime = random.normal(n_walk[i],1.0/50.0)# 50)\n",
      "        t0_prime = random.normal(t0_walk[i],5)# 270.0/2.0)\n",
      "    \n",
      "        y_init = paso(tiempo, f_walk[i], g_walk[i], h_walk[i], n_walk[i], t0_walk[i])\n",
      "        y_prime = paso(tiempo, f_prime, g_prime, h_prime, n_prime, t0_prime)\n",
      "    \n",
      "        like_prime = likelihood(campo, y_prime)\n",
      "        like_init = likelihood(campo, y_init)\n",
      "    \n",
      "    \n",
      "        alpha = like_prime-like_init \n",
      "    \n",
      "        if(alpha>=0.0): # likelihood definido sin exp\n",
      "                f_walk = append(f_walk, f_prime)\n",
      "                g_walk = append(g_walk, g_prime)\n",
      "                h_walk = append(h_walk, h_prime)\n",
      "                n_walk = append(n_walk, n_prime)\n",
      "                t0_walk = append(t0_walk, t0_prime)\n",
      "                like_walk = append(like_walk, like_prime)\n",
      "        else:\n",
      "            beta = random.random()\n",
      "            if(alpha>=beta):\n",
      "                f_walk = append(f_walk, f_prime)\n",
      "                g_walk = append(g_walk, g_prime)\n",
      "                h_walk = append(h_walk, h_prime)\n",
      "                n_walk = append(n_walk, n_prime)\n",
      "                t0_walk = append(t0_walk, t0_prime)\n",
      "                like_walk = append(like_walk, like_prime)\n",
      "            else:\n",
      "                f_walk = append(f_walk, f_walk[i])\n",
      "                g_walk = append(g_walk, g_walk[i])\n",
      "                h_walk = append(h_walk, h_walk[i])\n",
      "                n_walk = append(n_walk, n_walk[i])\n",
      "                t0_walk = append(t0_walk, t0_walk[i])\n",
      "                like_walk = append(like_walk, like_walk[i])\n",
      "                \n",
      "    return f_walk, g_walk, h_walk, n_walk, t0_walk, like_walk"
     ],
     "language": "python",
     "metadata": {},
     "outputs": [],
     "prompt_number": 10
    },
    {
     "cell_type": "code",
     "collapsed": false,
     "input": [
      "#funcion del fit lineal\n",
      "\n",
      "def fit_lineal(like_walk, f_walk, g_walk, h_walk, n_walk, t0_walk):\n",
      "    max_likelihood_id = argmax(like_walk)\n",
      "    best_like = like_walk[max_likelihood_id]\n",
      "    best_f = f_walk[max_likelihood_id]\n",
      "    best_g = g_walk[max_likelihood_id]\n",
      "    best_h = h_walk[max_likelihood_id]\n",
      "    best_n = n_walk[max_likelihood_id]\n",
      "    best_t0 = t0_walk[max_likelihood_id]\n",
      "    best_campo = paso(tiempo, best_f, best_g, best_h, best_n, best_t0)\n",
      "    return best_f, best_g, best_h, best_n, best_t0, best_campo, best_like"
     ],
     "language": "python",
     "metadata": {},
     "outputs": [],
     "prompt_number": 11
    },
    {
     "cell_type": "code",
     "collapsed": false,
     "input": [
      "titulo = 'Ajuste Lineal Paso'\n",
      "info = \"x,y son las coordenas del pixel analizado en el archivo 'hmi.m_45s.magnetogram.subregion_x1y1.fits'. best_b y best_a son los parametros de maximo likelihood para el modelo lineal\"\n",
      "heading = 'x,y,best_likelihood,best_f,best_g,best_h,best_n,best_t0' #modificar cada parametro\n",
      "f = open('Modelo_Paso.csv','w')\n",
      "f.write(titulo+'\\n')\n",
      "f.write(info+'\\n')\n",
      "f.write(heading+'\\n')\n",
      "\n",
      "\n",
      "n=20\n",
      "for i in range(n):\n",
      "    campo=cols[:,x[i],y[i]]\n",
      "    \n",
      "    f_walk, g_walk, h_walk, n_walk, t0_walk, like_walk=mcmc_lineal_paso(tiempo, campo)\n",
      "\n",
      "    best_f, best_g, best_h, best_n, best_t0, best_campo, best_like=fit_lineal(like_walk, f_walk, g_walk, h_walk, n_walk, t0_walk)\n",
      "\n",
      "    f.write(str(x[i]) + ',' + str(y[i]) + ',' + '%.7f'%best_like + ',' + '%.7f'%best_f + ',' + '%.7f'%best_g + ',' + '%.7f'%best_h + ',' + '%.7f'%best_n + ',' + '%.7f'%best_t0 +  '\\n')\n",
      "    \n",
      "    \n",
      "    #plot(tiempo,best_campo,'g-')\n",
      "    #plot(tiempo,campo,'bo')\n",
      "    #show()\n",
      "f.close()"
     ],
     "language": "python",
     "metadata": {},
     "outputs": [],
     "prompt_number": 12
    },
    {
     "cell_type": "code",
     "collapsed": false,
     "input": [
      "!cat Modelo_Paso.csv"
     ],
     "language": "python",
     "metadata": {},
     "outputs": [
      {
       "output_type": "stream",
       "stream": "stdout",
       "text": [
        "Ajuste Lineal Gauss\r\n",
        "x,y son las coordenas del pixel analizado en el archivo 'hmi.m_45s.magnetogram.subregion_x1y1.fits'. best_b y best_a son los parametros de maximo likelihood para el modelo lineal\r\n",
        "x,y,best_likelihood,best_f,best_g,best_h,best_n,best_t0\r\n",
        "1,2,-3876.5212563,17.4606410,-0.0067982,2.5852376,-0.0256751,230.4977488\r\n",
        "3,3,-4522.1885624,40.5628025,-0.0803691,3.9009286,0.0437474,171.3208876\r\n",
        "5,4,-2815.8539070,43.1379819,0.1131570,-35.4440251,0.0967998,226.4910136\r\n",
        "7,5,-3099.7168672,-8.5362673,0.0398921,34.8418283,-0.0609699,196.3977220\r\n",
        "9,6,-10683.8918298,-21.8998034,0.0084998,62.2757576,-0.0048612,84.1310368\r\n",
        "11,7,-2825.8485289,20.7341753,-0.0245126,3.5082819,-0.0432789,155.2091263\r\n",
        "13,8,-5491.9108520,1.0147339,0.0382756,14.6880841,-0.0602803,169.1696408\r\n",
        "15,9,-10774.3007081,17.1548625,0.0398368,5.9235284,-0.0994463,102.6905453\r\n",
        "17,10,-37138.3045039,-199.9200564,-0.0325496,244.9402229,-0.0000611,136.7594633\r\n",
        "19,11,-7659.3055120,48.2735121,0.0379174,-21.3081758,0.0709685,244.9946964\r\n",
        "21,12,-4664.0162976,39.4511788,0.0250427,-9.6969686,0.0281717,274.0855348\r\n",
        "23,13,-3333.7973100,92.0912672,-0.1847976,-26.4385935,-0.0208652,197.0124650\r\n",
        "25,14,-6993.5991642,34.9823141,0.0664488,-19.9280632,0.0729316,214.5918434\r\n",
        "27,15,-7918.0219626,17.2238175,0.0064597,-7.3685118,0.0274923,232.4787215\r\n",
        "29,16,-4950.0754041,18.4463758,-0.0818455,5.3487258,0.0704893,216.6050093\r\n",
        "31,17,-3687.5243307,67.5805779,0.0672425,-93.5525929,0.0021661,324.6898862\r\n",
        "33,18,-8177.6239288,-118.4129529,-0.0103630,119.2196071,-0.0006872,136.2971497\r\n",
        "35,19,-10571.0582677,-77.6026518,-0.2731425,115.4903047,0.0031252,157.6513974\r\n",
        "37,20,-6616.9656476,-5.6923961,-0.4473964,85.2019510,0.0110330,189.7617376\r\n",
        "39,21,-15517.4282103,16.1745002,-0.1793428,13.8321012,0.1383034,208.3931553\r\n"
       ]
      }
     ],
     "prompt_number": 14
    },
    {
     "cell_type": "code",
     "collapsed": false,
     "input": [],
     "language": "python",
     "metadata": {},
     "outputs": []
    }
   ],
   "metadata": {}
  }
 ]
}