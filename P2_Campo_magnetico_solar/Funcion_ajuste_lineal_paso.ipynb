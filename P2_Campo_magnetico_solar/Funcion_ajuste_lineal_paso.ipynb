{
 "metadata": {
  "name": "",
  "signature": "sha256:69d660e38558964bd65717ffb375cf3683ea83e9664277a3d000364fee7136b9"
 },
 "nbformat": 3,
 "nbformat_minor": 0,
 "worksheets": [
  {
   "cells": [
    {
     "cell_type": "code",
     "collapsed": false,
     "input": [
      "%pylab inline\n",
      "import pyfits\n",
      "from scipy.optimize import curve_fit\n",
      "\n",
      "datos = pyfits.open('hmi.m_45s.magnetogram.subregion_x1y1.fits')\n",
      "cols = datos[0].data\n",
      "#arreglo para el tiempo\n",
      "tiempo=np.genfromtxt('times_delta.csv', delimiter=',')\n",
      "#coordenadas del pixel seleccionado\n",
      "\n",
      "\n",
      "x = [2*i+1 for i in range(100)]\n",
      "y = [ i +2 for i in range(100)]\n",
      "\n"
     ],
     "language": "python",
     "metadata": {},
     "outputs": [
      {
       "output_type": "stream",
       "stream": "stdout",
       "text": [
        "Populating the interactive namespace from numpy and matplotlib\n"
       ]
      }
     ],
     "prompt_number": 4
    },
    {
     "cell_type": "markdown",
     "metadata": {},
     "source": [
      "###Lineal-paso\n",
      "$$B(t)=f+gt+h\\left(1+\\frac{2}{\\pi}tan^{-1}\\left(n(t-t_0)\\right)\\right)$$"
     ]
    },
    {
     "cell_type": "code",
     "collapsed": false,
     "input": [
      "def paso(t,f,g,h,n,t0):\n",
      "    return f + g*t + h*(1 + 2/pi*arctan(n*(t-t0)))\n",
      "#funcion de likelihood lineal, sin exp\n",
      "def likelihood(y_obs,y_m):\n",
      "    chi_cuadrado= (1.0/2.0)*sum((y_obs-y_m)**2) # Se esta asumiendo que los sigmas = 1\n",
      "    return -chi_cuadrado"
     ],
     "language": "python",
     "metadata": {},
     "outputs": [],
     "prompt_number": 5
    },
    {
     "cell_type": "code",
     "collapsed": false,
     "input": [
      "def mcmc_lineal_paso(tiempo, campo):\n",
      "\n",
      "    f_walk = empty((0))\n",
      "    g_walk = empty((0))\n",
      "    h_walk = empty((0))\n",
      "    n_walk = empty((0))\n",
      "    t0_walk = empty((0))\n",
      "    like_walk = empty((0))\n",
      "\n",
      "    mm = mean(campo)\n",
      "    dd = std(campo)\n",
      "    nn = (campo[-1]-campo[0])/(tiempo[-1]-tiempo[0])\n",
      "    mm_t = mean(tiempo)\n",
      "\n",
      "\n",
      "    f_walk = append(f_walk,random.random()*200-100)\n",
      "    g_walk = append(g_walk,random.random()*2.0 - 1.0)\n",
      "    h_walk = append(h_walk,random.random()*150.0 - 75.0)\n",
      "    n_walk = append(n_walk,random.random()/100)\n",
      "    t0_walk = append(t0_walk,random.random()*270+80) # t0 entre 80 y 350\n",
      "\n",
      "    y_i = paso(tiempo, f_walk[0], g_walk[0], h_walk[0], n_walk[0], t0_walk[0]) # y inicial\n",
      "    like_walk = append(like_walk,likelihood(campo,y_i)) # likelyhood\n",
      "   \n",
      "    iteraciones = 20000\n",
      "    for i in range(iteraciones):\n",
      "        f_prime = random.normal(f_walk[i],100)# 2.0*dd) \n",
      "        g_prime = random.normal(g_walk[i],0.5)# 2.0*dd)\n",
      "        h_prime = random.normal(h_walk[i],30.0)# 50)\n",
      "        n_prime = random.normal(n_walk[i],1.0/50.0)# 50)\n",
      "        t0_prime = random.normal(t0_walk[i],5)# 270.0/2.0)\n",
      "    \n",
      "        y_init = paso(tiempo, f_walk[i], g_walk[i], h_walk[i], n_walk[i], t0_walk[i])\n",
      "        y_prime = paso(tiempo, f_prime, g_prime, h_prime, n_prime, t0_prime)\n",
      "    \n",
      "        like_prime = likelihood(campo, y_prime)\n",
      "        like_init = likelihood(campo, y_init)\n",
      "    \n",
      "    \n",
      "        alpha = like_prime-like_init \n",
      "    \n",
      "        if(alpha>=0.0): # likelihood definido sin exp\n",
      "                f_walk = append(f_walk, f_prime)\n",
      "                g_walk = append(g_walk, g_prime)\n",
      "                h_walk = append(h_walk, h_prime)\n",
      "                n_walk = append(n_walk, n_prime)\n",
      "                t0_walk = append(t0_walk, t0_prime)\n",
      "                like_walk = append(like_walk, like_prime)\n",
      "        else:\n",
      "            beta = random.random()\n",
      "            if(alpha>=beta):\n",
      "                f_walk = append(f_walk, f_prime)\n",
      "                g_walk = append(g_walk, g_prime)\n",
      "                h_walk = append(h_walk, h_prime)\n",
      "                n_walk = append(n_walk, n_prime)\n",
      "                t0_walk = append(t0_walk, t0_prime)\n",
      "                like_walk = append(like_walk, like_prime)\n",
      "            else:\n",
      "                f_walk = append(f_walk, f_walk[i])\n",
      "                g_walk = append(g_walk, g_walk[i])\n",
      "                h_walk = append(h_walk, h_walk[i])\n",
      "                n_walk = append(n_walk, n_walk[i])\n",
      "                t0_walk = append(t0_walk, t0_walk[i])\n",
      "                like_walk = append(like_walk, like_walk[i])\n",
      "                \n",
      "    return f_walk, g_walk, h_walk, n_walk, t0_walk, like_walk"
     ],
     "language": "python",
     "metadata": {},
     "outputs": [],
     "prompt_number": 6
    },
    {
     "cell_type": "code",
     "collapsed": false,
     "input": [
      "#funcion del fit lineal\n",
      "\n",
      "def fit_lineal(like_walk, f_walk, g_walk, h_walk, n_walk, t0_walk):\n",
      "    max_likelihood_id = argmax(like_walk)\n",
      "    best_like = like_walk[max_likelihood_id]\n",
      "    best_f = f_walk[max_likelihood_id]\n",
      "    best_g = g_walk[max_likelihood_id]\n",
      "    best_h = h_walk[max_likelihood_id]\n",
      "    best_n = n_walk[max_likelihood_id]\n",
      "    best_t0 = t0_walk[max_likelihood_id]\n",
      "    best_campo = paso(tiempo, best_f, best_g, best_h, best_n, best_t0)\n",
      "    return best_f, best_g, best_h, best_n, best_t0, best_campo, best_like"
     ],
     "language": "python",
     "metadata": {},
     "outputs": [],
     "prompt_number": 9
    },
    {
     "cell_type": "code",
     "collapsed": false,
     "input": [
      "titulo = 'Ajuste Lineal Gauss'\n",
      "info = \"x,y son las coordenas del pixel analizado en el archivo 'hmi.m_45s.magnetogram.subregion_x1y1.fits'. best_b y best_a son los parametros de maximo likelihood para el modelo lineal\"\n",
      "heading = 'x,y,best_likelihood,best_f,best_g,best_h,best_n,best_t0' #modificar cada parametro\n",
      "f = open('Modelo_Paso.csv','w')\n",
      "f.write(titulo+'\\n')\n",
      "f.write(info+'\\n')\n",
      "f.write(heading+'\\n')\n",
      "\n",
      "\n",
      "n=1\n",
      "for i in range(n):\n",
      "    campo=cols[:,x[i],y[i]]\n",
      "    \n",
      "    f_walk, g_walk, h_walk, n_walk, t0_walk, like_walk=mcmc_lineal_paso(tiempo, campo)\n",
      "\n",
      "    best_f, best_g, best_h, best_n, best_t0, best_campo, best_like=fit_lineal(like_walk, f_walk, g_walk, h_walk, n_walk, t0_walk)\n",
      "\n",
      "    f.write(str(x[i]) + ',' + str(y[i]) + ',' + '%.7f'%best_like + ',' + '%.7f'%best_f + ',' + '%.7f'%best_g + ',' + '%.7f'%best_h + ',' + '%.7f'%best_n + ',' + '%.7f'%best_t0 +  '\\n')\n",
      "    \n",
      "    \n",
      "    plot(tiempo,best_campo,'g-')\n",
      "    plot(tiempo,campo,'bo')\n",
      "    show()\n",
      "f.close()"
     ],
     "language": "python",
     "metadata": {},
     "outputs": [
      {
       "metadata": {},
       "output_type": "display_data",
       "png": "[encoded data removed]",
       "text": [
        "<matplotlib.figure.Figure at 0xae4fc8ec>"
       ]
      }
     ],
     "prompt_number": 12
    },
    {
     "cell_type": "code",
     "collapsed": false,
     "input": [],
     "language": "python",
     "metadata": {},
     "outputs": []
    }
   ],
   "metadata": {}
  }
 ]
}