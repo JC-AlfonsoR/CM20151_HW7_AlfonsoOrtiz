{
 "metadata": {
  "name": "",
  "signature": "sha256:85aec9c9ba4c62cf71209de5460427aaa515f03e6c82344b15698f930e2ebb2e"
 },
 "nbformat": 3,
 "nbformat_minor": 0,
 "worksheets": [
  {
   "cells": [
    {
     "cell_type": "code",
     "collapsed": false,
     "input": [
      "%pylab inline\n",
      "import pyfits\n",
      "from scipy.optimize import curve_fit\n",
      "\n",
      "datos = pyfits.open('hmi.m_45s.magnetogram.subregion_x1y1.fits')\n",
      "cols = datos[0].data\n",
      "#arreglo para el tiempo\n",
      "tiempo=np.genfromtxt('times_delta.csv', delimiter=',')\n",
      "\n"
     ],
     "language": "python",
     "metadata": {},
     "outputs": [
      {
       "output_type": "stream",
       "stream": "stdout",
       "text": [
        "Populating the interactive namespace from numpy and matplotlib\n"
       ]
      }
     ],
     "prompt_number": 1
    },
    {
     "cell_type": "markdown",
     "metadata": {},
     "source": [
      "###Lineal Gaussiano\n",
      "$$B(t) = c + dt+\\frac{1}{\\sigma\\sqrt{2\\pi}}exp\\left(-\\frac{1}{2}\\left(\\frac{t-\\mu}{\\sigma}\\right)^2\\right)$$"
     ]
    },
    {
     "cell_type": "code",
     "collapsed": false,
     "input": [
      "#coordenadas del pixel seleccionado\n",
      "\n",
      "x = [2*i+1 for i in range(100)]\n",
      "y = [ i +2 for i in range(100)]\n",
      "\n",
      "\n",
      "#funcion de likelihood lineal, sin exp\n",
      "def likelihood(y_obs,y_m):\n",
      "    chi_cuadrado= (1.0/2.0)*sum((y_obs-y_m)**2) # Se esta asumiendo que los sigmas = 1\n",
      "    return -chi_cuadrado\n",
      "#funcion lineal_gauss\n",
      "def lineal_gauss(t_obs, c, d, sigma, mu):\n",
      "    n1 = sigma**2/(sqrt(2*pi))\n",
      "    n2 = 0.5*((t_obs-mu)/sigma)**2\n",
      "    return c +d*t_obs + n1*exp(-n2)\n"
     ],
     "language": "python",
     "metadata": {},
     "outputs": [],
     "prompt_number": 2
    },
    {
     "cell_type": "code",
     "collapsed": false,
     "input": [
      "#MCMC modelo lineal\n",
      "\n",
      "#modelo lineal con funci\u00f3n\n",
      "def mcmc_modelo_linealGauss(tiempo,campo):\n",
      "    c_walk = empty((0))\n",
      "    d_walk = empty((0))\n",
      "    sigma_walk = empty((0))\n",
      "    mu_walk = empty((0))\n",
      "    like_walk = empty((0))\n",
      "\n",
      "    mm = mean(campo)\n",
      "    dd = std(campo)\n",
      "    nn = (campo[-1]-campo[0])/(tiempo[-1]-tiempo[0])\n",
      "    mm_t = mean(tiempo)\n",
      "\n",
      "    # Numeros iniciales\n",
      "    c_walk = append(c_walk,random.random()*2.0*dd +mm-1.0*dd)\n",
      "    d_walk = append(d_walk,random.random()*2.0*dd +nn-1.0*dd)\n",
      "    sigma_walk = append(sigma_walk, random.random()*10+35)#*2.0**dd - 1.0*dd)\n",
      "    mu_walk = append(mu_walk, random.random()*10.0 + 95.0)\n",
      "\n",
      "    #y_inicial\n",
      "    y_i = lineal_gauss(tiempo, c_walk[0],d_walk[0],sigma_walk[0], mu_walk[0]) # y inicial\n",
      "    like_walk = append(like_walk,likelihood(campo,y_i)) # likelyhood\n",
      "    \n",
      "    iteraciones = 20000\n",
      "    \n",
      "    for i in range(iteraciones):\n",
      "        c_prime = random.normal(c_walk[i], 2.0*dd) # Desviacion estandar se asume que es 1 desde la definicion del likelyhood\n",
      "        d_prime = random.normal(d_walk[i], 2.0*dd)\n",
      "        sigma_prime = random.normal(sigma_walk[i], 5)\n",
      "        mu_prime = random.normal(mu_walk[i],5)#mm_t/5.0)\n",
      "\n",
      "        y_init = lineal_gauss(tiempo, c_walk[i], d_walk[i], sigma_walk[i], mu_walk[i])\n",
      "        y_prime = lineal_gauss(tiempo, c_prime, d_prime, sigma_prime, mu_prime)\n",
      "\n",
      "        like_prime = likelihood(campo, y_prime)\n",
      "        like_init = likelihood(campo, y_init)\n",
      "\n",
      "\n",
      "        alpha = like_prime-like_init \n",
      "\n",
      "        if(alpha>=0.0): # likelihood definido sin exp\n",
      "                c_walk = append(c_walk,c_prime)\n",
      "                d_walk = append(d_walk,d_prime)\n",
      "                sigma_walk = append(sigma_walk,sigma_prime)\n",
      "                mu_walk = append(mu_walk,mu_prime)\n",
      "                like_walk = append(like_walk, like_prime)\n",
      "        else:\n",
      "            beta = random.random()\n",
      "            if(alpha>=beta):\n",
      "                c_walk = append(c_walk,c_prime)\n",
      "                d_walk = append(d_walk,d_prime)\n",
      "                sigma_walk = append(sigma_walk,sigma_prime)\n",
      "                mu_walk = append(mu_walk,mu_prime)\n",
      "                like_walk = append(like_walk, like_prime)\n",
      "            else:\n",
      "                c_walk = append(c_walk, c_walk[i])\n",
      "                d_walk = append(d_walk, d_walk[i])\n",
      "                sigma_walk = append(sigma_walk,sigma_walk[i])\n",
      "                mu_walk = append(mu_walk,mu_walk[i])\n",
      "                like_walk = append(like_walk, like_walk[i])\n",
      "    return c_walk, d_walk, sigma_walk, mu_walk, like_walk"
     ],
     "language": "python",
     "metadata": {},
     "outputs": [],
     "prompt_number": 6
    },
    {
     "cell_type": "code",
     "collapsed": false,
     "input": [
      "def fit_linealGauss(c_walk, d_walk, sigma_walk, mu_walk, like_walk):\n",
      "    max_likelihood_id = argmax(like_walk)\n",
      "    best_like = like_walk[max_likelihood_id]\n",
      "    best_c = c_walk[max_likelihood_id]\n",
      "    best_d = d_walk[max_likelihood_id]\n",
      "    best_sigma = sigma_walk[max_likelihood_id]\n",
      "    best_mu = mu_walk[max_likelihood_id]\n",
      "    best_campo = lineal_gauss(tiempo, best_c, best_d, best_sigma, best_mu)\n",
      "    \n",
      "    return best_c, best_d, best_sigma, best_mu, best_campo, best_like\n",
      "    "
     ],
     "language": "python",
     "metadata": {},
     "outputs": [],
     "prompt_number": 7
    },
    {
     "cell_type": "code",
     "collapsed": false,
     "input": [
      "#iteracion de los n pixeles\n",
      "titulo = 'Ajuste Lineal Gauss'\n",
      "info = \"x,y son las coordenas del pixel analizado en el archivo 'hmi.m_45s.magnetogram.subregion_x1y1.fits'. best_b y best_a son los parametros de maximo likelihood para el modelo lineal\"\n",
      "heading = 'x,y,best_likelihood,best_c,best_d,best_sigma,best_mu' #modificar cada parametro\n",
      "f = open('Modelo_Gauss.csv','w')\n",
      "f.write(titulo+'\\n')\n",
      "f.write(info+'\\n')\n",
      "f.write(heading+'\\n')\n",
      "\n",
      "n=10\n",
      "for i in range(n):\n",
      "    campo=cols[:,x[i],y[i]]\n",
      "    \n",
      "    c_walk, d_walk, sigma_walk, mu_walk, like_walk = mcmc_modelo_linealGauss(tiempo, campo)\n",
      "\n",
      "    best_c, best_d, best_sigma, best_mu, best_campo, best_like = fit_linealGauss(c_walk, d_walk, sigma_walk, mu_walk, like_walk) \n",
      "    \n",
      "    f.write(str(x[i]) + ',' + str(y[i]) + ',' + '%.7f'%best_like + ',' + '%.7f'%best_c + ',' + '%.7f'%best_d + ',' + '%.7f'%best_sigma + ',' + '%.7f'%best_mu +  '\\n')\n",
      "    \n",
      "    #plot(tiempo,best_campo,'g-')\n",
      "    #plot(tiempo,campo,'bo')\n",
      "    #show()\n",
      "f.close()"
     ],
     "language": "python",
     "metadata": {},
     "outputs": [],
     "prompt_number": 8
    },
    {
     "cell_type": "code",
     "collapsed": false,
     "input": [
      "!head Modelo_Gauss.csv"
     ],
     "language": "python",
     "metadata": {},
     "outputs": [
      {
       "output_type": "stream",
       "stream": "stdout",
       "text": [
        "Ajuste Lineal Gauss\r\n",
        "x,y son las coordenas del pixel analizado en el archivo 'hmi.m_45s.magnetogram.subregion_x1y1.fits'. best_b y best_a son los parametros de maximo likelihood para el modelo lineal\r\n",
        "x,y,best_likelihood,best_c,best_d,best_sigma,best_mu\r\n",
        "1,2,-5754.2609741,24.4244369,-0.0366357,8.2903653,94.9276275\r\n",
        "3,3,-6143.5618019,27.7548967,-0.0092569,2.3674495,104.9679100\r\n",
        "5,4,-34482.1253541,49.1121614,-0.0759158,11.6345989,107.4866451\r\n",
        "7,5,-29022.7983159,46.6339742,-0.1282324,15.7584951,105.2659866\r\n",
        "9,6,-14053.2442618,38.5215331,-0.1011022,-6.4723015,108.0696015\r\n",
        "11,7,-2544.1213907,23.4972045,-0.0301503,9.7935505,117.3473245\r\n",
        "13,8,-6609.1044955,20.5912395,-0.0212671,5.0695801,93.4649778\r\n"
       ]
      }
     ],
     "prompt_number": 9
    },
    {
     "cell_type": "code",
     "collapsed": false,
     "input": [],
     "language": "python",
     "metadata": {},
     "outputs": []
    }
   ],
   "metadata": {}
  }
 ]
}