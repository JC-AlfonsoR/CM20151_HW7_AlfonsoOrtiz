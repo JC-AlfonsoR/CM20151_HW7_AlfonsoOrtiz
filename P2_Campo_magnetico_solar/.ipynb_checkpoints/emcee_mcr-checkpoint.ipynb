{
 "metadata": {
  "name": "",
  "signature": "sha256:acd266bf9c08a1e906e875fd72ec0bf0915bfd207d5d8bcdf82e9046ac46e8ad"
 },
 "nbformat": 3,
 "nbformat_minor": 0,
 "worksheets": [
  {
   "cells": [
    {
     "cell_type": "code",
     "collapsed": false,
     "input": [
      "import emcee\n",
      "%pylab inline\n",
      "\n",
      "datos = pyfits.open('hmi.m_45s.magnetogram.subregion_x1y1.fits')\n",
      "cols = datos[0].data\n",
      "x = linspace(0, 397, 398)\n",
      "y = linspace(0, 198, 199)\n",
      "z = linspace(0, 206, 207)\n",
      "x_data=np.genfromtxt('times_delta.csv', delimiter=',')\n",
      "y_data = cols[:,33,66]"
     ],
     "language": "python",
     "metadata": {},
     "outputs": [
      {
       "output_type": "stream",
       "stream": "stdout",
       "text": [
        "Populating the interactive namespace from numpy and matplotlib\n"
       ]
      },
      {
       "output_type": "stream",
       "stream": "stderr",
       "text": [
        "WARNING: pylab import has clobbered these variables: ['ndim']\n",
        "`%matplotlib` prevents importing * from pylab and numpy\n"
       ]
      }
     ],
     "prompt_number": 70
    },
    {
     "cell_type": "code",
     "collapsed": false,
     "input": [
      "def model(a_walk,b_walk, x_d, y_d): #dejar x y y?\n",
      "    y_m = x_d*b_walk + a_walk\n",
      "    return y_m"
     ],
     "language": "python",
     "metadata": {},
     "outputs": [],
     "prompt_number": 71
    },
    {
     "cell_type": "code",
     "collapsed": false,
     "input": [
      "#emcee functions\n",
      "def lnprior(param):\n",
      "    a_walk, b_walk= param\n",
      "    if -200.0 < a_walk < 200.0 and -1 < b_walk < 1:\n",
      "        return 0.0\n",
      "    return -inf"
     ],
     "language": "python",
     "metadata": {},
     "outputs": [],
     "prompt_number": 72
    },
    {
     "cell_type": "code",
     "collapsed": false,
     "input": [
      "def lnlike(param, x_d, y_d):\n",
      "    a_walk, b_walk= param\n",
      "    y_m = model(a_walk, b_walk, x_d, y_d)\n",
      "    chi_cuadrado= (1.0/2.0)*sum((y_d-y_m)**2) #campo_m =y_d\n",
      "    return -chi_cuadrado\n"
     ],
     "language": "python",
     "metadata": {},
     "outputs": [],
     "prompt_number": 92
    },
    {
     "cell_type": "code",
     "collapsed": false,
     "input": [
      "def lnprob(param, x_d, y_d):\n",
      "    lp = lnprior(param)\n",
      "    if not isfinite(lp):\n",
      "        return -inf\n",
      "    return lp + lnlike(param, x_d, y_d)"
     ],
     "language": "python",
     "metadata": {},
     "outputs": [],
     "prompt_number": 87
    },
    {
     "cell_type": "code",
     "collapsed": false,
     "input": [
      "a_walk0 = np.random.random()*400 -200\n",
      "b_walk0 = np.random.random()*2 -1\n",
      "\n",
      "y_0 = model(a_walk,b_walk,x_data, y_data)\n",
      "#print y_0"
     ],
     "language": "python",
     "metadata": {},
     "outputs": [],
     "prompt_number": 88
    },
    {
     "cell_type": "code",
     "collapsed": false,
     "input": [
      "first_guess = [a_walk0, b_walk0]\n"
     ],
     "language": "python",
     "metadata": {},
     "outputs": [],
     "prompt_number": 89
    },
    {
     "cell_type": "code",
     "collapsed": false,
     "input": [
      "#Running emcee\n",
      "ndim = 2 #numero de walkers\n",
      "nwalkers = 4\n",
      "nsteps = 2000\n",
      "\n",
      "pos0 = [first_guess+ 1e-3*random.randn(ndim) for i in range(nwalkers)]"
     ],
     "language": "python",
     "metadata": {},
     "outputs": [],
     "prompt_number": 90
    },
    {
     "cell_type": "code",
     "collapsed": false,
     "input": [
      "sampler = emcee.EnsembleSampler(nwalkers, ndim, lnprob, args=(x_data, y_data), threads=1)\n",
      "a,b,c=sampler.run_mcmc(pos0, 500)\n",
      "#sampler.run_mcmc(pos0, nsteps, rstate0=random.get_state())\n",
      "print(\"Done!\")\n"
     ],
     "language": "python",
     "metadata": {},
     "outputs": [
      {
       "output_type": "stream",
       "stream": "stdout",
       "text": [
        "Done!\n"
       ]
      }
     ],
     "prompt_number": 94
    },
    {
     "cell_type": "code",
     "collapsed": false,
     "input": [],
     "language": "python",
     "metadata": {},
     "outputs": []
    }
   ],
   "metadata": {}
  }
 ]
}