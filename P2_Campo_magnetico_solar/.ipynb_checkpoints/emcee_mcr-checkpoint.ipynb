{
 "metadata": {
  "name": "",
  "signature": "sha256:dbc622e6e487e54b6e782c14471a16adb907ad76efd31cd8d63b78ebefc25eb0"
 },
 "nbformat": 3,
 "nbformat_minor": 0,
 "worksheets": [
  {
   "cells": [
    {
     "cell_type": "code",
     "collapsed": false,
     "input": [
      "import emcee\n",
      "import pyfits\n",
      "%pylab inline\n",
      "\n",
      "datos = pyfits.open('hmi.m_45s.magnetogram.subregion_x1y1.fits')\n",
      "cols = datos[0].data\n",
      "x = linspace(0, 397, 398)\n",
      "y = linspace(0, 198, 199)\n",
      "z = linspace(0, 206, 207)\n",
      "x_data=np.genfromtxt('times_delta.csv', delimiter=',')\n",
      "y_data = cols[:,3,6]\n",
      "#arreglo para el tiempo\n"
     ],
     "language": "python",
     "metadata": {},
     "outputs": [
      {
       "output_type": "stream",
       "stream": "stdout",
       "text": [
        "Populating the interactive namespace from numpy and matplotlib\n"
       ]
      }
     ],
     "prompt_number": 1
    },
    {
     "cell_type": "code",
     "collapsed": false,
     "input": [
      "def model(a_walk, b_walk, x_d, y_d): #dejar x y y?\n",
      "    y_m = x_d*b_walk + a_walk\n",
      "    return y_m"
     ],
     "language": "python",
     "metadata": {},
     "outputs": [],
     "prompt_number": 2
    },
    {
     "cell_type": "code",
     "collapsed": false,
     "input": [
      "#emcee functions\n",
      "def lnprior(param):\n",
      "    a_walk, b_walk= param\n",
      "    if -200.0 < a_walk < 200.0 and -1 < b_walk < 1:\n",
      "        return 0.0\n",
      "    return -inf"
     ],
     "language": "python",
     "metadata": {},
     "outputs": [],
     "prompt_number": 3
    },
    {
     "cell_type": "code",
     "collapsed": false,
     "input": [
      "def lnlike(param, x_d, y_d):\n",
      "    a_walk, b_walk= param\n",
      "    y_m = model(a_walk, b_walk, x_d, y_d)\n",
      "    chi_cuadrado= (1.0/2.0)*sum((y_d-y_m)**2) #campo_m =y_d\n",
      "    return -chi_cuadrado\n"
     ],
     "language": "python",
     "metadata": {},
     "outputs": [],
     "prompt_number": 4
    },
    {
     "cell_type": "code",
     "collapsed": false,
     "input": [
      "def lnprob(param, x_d, y_d):\n",
      "    lp = lnprior(param)\n",
      "    if not isfinite(lp):\n",
      "        return -inf\n",
      "    return lp + lnlike(param, x_d, y_d)"
     ],
     "language": "python",
     "metadata": {},
     "outputs": [],
     "prompt_number": 5
    },
    {
     "cell_type": "code",
     "collapsed": false,
     "input": [
      "a_walk0 = np.random.random()*400 -200\n",
      "b_walk0 = np.random.random()*2 -1\n",
      "\n",
      "model(a_walk0,b_walk0,x_data, y_data)\n",
      "#print y_0\n",
      "\n",
      "import scipy.optimize as op\n",
      "nll = lambda *args: -lnlike(*args)\n",
      "result = op.minimize(nll, [a_walk0, b_walk0], args=(x_data, y_data))\n",
      "a_ml, b_ml = result[\"x\"]\n"
     ],
     "language": "python",
     "metadata": {},
     "outputs": [],
     "prompt_number": 6
    },
    {
     "cell_type": "code",
     "collapsed": false,
     "input": [
      "#first_guess = [a_walk0, b_walk0]\n",
      "#print first_guess\n",
      "#print a_ml\n",
      "#print b_ml\n",
      "#print model(a_ml, b_ml, x_data, y_data)"
     ],
     "language": "python",
     "metadata": {},
     "outputs": [],
     "prompt_number": 7
    },
    {
     "cell_type": "code",
     "collapsed": false,
     "input": [
      "#Running emcee\n",
      "ndim = 2 #numero de walkers\n",
      "nwalkers = 4\n",
      "nsteps = 2000\n",
      "pos0 = [result[\"x\"] + 1e-4*np.random.randn(ndim) for i in range(nwalkers)]\n",
      "sampler = emcee.EnsembleSampler(nwalkers, ndim, lnprob, args=(x_data, y_data), threads=1)\n",
      "sampler.run_mcmc(pos0, nsteps, rstate0=random.get_state())\n"
     ],
     "language": "python",
     "metadata": {},
     "outputs": [
      {
       "metadata": {},
       "output_type": "pyout",
       "prompt_number": 8,
       "text": [
        "(array([[ 31.16985656,   0.12007463],\n",
        "        [ 30.97280589,   0.12137384],\n",
        "        [ 31.06632638,   0.12089415],\n",
        "        [ 31.28069844,   0.12015315]]),\n",
        " array([-15344.15936655, -15342.62013948, -15342.46783443, -15342.85745834]),\n",
        " ('MT19937', array([1803130046,  876270773, 3283086839, 1273215433,  333337404,\n",
        "         2613900960, 3931181616, 3158276731, 1692218524, 2278169316,\n",
        "          165335002,  709253581,  195617343, 2172826481, 4234498644,\n",
        "         3004724325, 2017953156, 2708174532, 2948373573, 1204763938,\n",
        "         2833640417, 3360825792, 4195112769,  603061902, 3250055054,\n",
        "         2899691133, 3875376232, 3168759066, 1345144474, 2202776445,\n",
        "          844338999, 2922765292, 2669397700,  916335315, 1700956309,\n",
        "           37314319,   24693893,  960674524, 4074714067, 2940057005,\n",
        "           17712787, 1896386640, 2342350273, 2652847031, 2230921599,\n",
        "         1495793007, 2202383634,  645807739, 1198280389, 2829815038,\n",
        "         1328661657, 2345445665, 2718347550, 3719434270,  222997129,\n",
        "         2065375236, 4260691281, 4265165907,  337314461, 4027210601,\n",
        "         1162266633, 3213399913, 3706839415, 1179916626, 3548961702,\n",
        "         3520741784, 1758403566,  616876819, 3444993807, 3211746494,\n",
        "         3435091058, 3438771723, 1947782172,  418599132, 3160443642,\n",
        "         2650453498, 3219805428, 3891678964, 1869892212, 3104561599,\n",
        "         1430592267, 3501697930, 1127190566, 2887471769, 1948789910,\n",
        "         1685816341,  602758324,   60830675,  906505519, 2578407482,\n",
        "         3534505120, 1607549230, 3439988719, 1424801156, 2217299238,\n",
        "         1172043540, 2988910480,  618372224, 1100231953, 1703757471,\n",
        "         2001032843, 3116096295, 2813221804, 1038480422, 1031273655,\n",
        "         2209211898, 1155649693, 3746304637,  746354864, 2674172887,\n",
        "          443499379, 2799748419, 2248912905, 2135327894, 1918857794,\n",
        "         1008408313, 1620586117, 1866235130, 3076333425, 3818824777,\n",
        "         1070685969, 3274352331, 3512301804,  764813556, 2430722710,\n",
        "         3631937446,  515683068, 3770828230, 3113874242,  141163399,\n",
        "          617799862, 1796905205, 1754072241,  577470532, 1349550911,\n",
        "         2780267540, 3854444706, 1721503148, 4055404557, 2500879033,\n",
        "          312599494, 3745463626, 2810427527,  314407304,  796818422,\n",
        "         4086018400, 2339461309,   38443250, 2566679773, 2298772221,\n",
        "         1556933866, 3451880590, 2788257455, 4039959594, 2554478089,\n",
        "         1197178355, 2872083368, 1864092338,  744529793,  516600084,\n",
        "         3805092592,  794735519,  635571448,  598627719, 1877149632,\n",
        "         2092527643,   41584082,  767537327, 4167109206,  999185078,\n",
        "         2528208545, 3863200944, 2170946572, 2722802309, 3371691814,\n",
        "          953784446, 3521873386, 1094791562,   69804076, 4233556846,\n",
        "         2436791218, 3210348300, 1052683015, 3273793867, 3881147524,\n",
        "          341003904,  512957357,  431099172,  200323453, 2682209449,\n",
        "         1333381421, 2244342609,   11722442, 3239073316, 4102311288,\n",
        "         1870848370, 1164907567, 2382955274, 2546391019, 1703811977,\n",
        "         2450775181, 2223373582, 3509687952, 1415119892, 1406563960,\n",
        "          867524507, 2503669808, 1043791638, 3500694349, 1467280981,\n",
        "         2327007561, 4213563798, 3403150153, 2715710476,  803832338,\n",
        "         2958488340, 2866957227, 3935790855,  412312274, 1622976220,\n",
        "          447157742, 1526424333, 2062167196,  197627161, 3946413822,\n",
        "         4084760238, 3338276445, 1244093987, 3701566463, 2966484342,\n",
        "         1044474164,  227652080, 1637543399, 3736651020, 2347042459,\n",
        "          479915606, 1977921626,   76009886, 1423194478, 3625121490,\n",
        "         2394131989,  368513603, 3914109041, 3306881019, 1679320753,\n",
        "          853142485, 2248613771, 3525884428, 3077847255,  362143716,\n",
        "         1420024069, 3838199087, 2983036462, 1961205596, 3543203953,\n",
        "         3876697245, 2948916665,  365684524, 1494993879, 1457764371,\n",
        "         1124370418, 1393778772,  693569279, 2046036645,  309162808,\n",
        "         4053633169,  205849075, 1934905690, 2573115221, 3540589720,\n",
        "         3124706401,  678146387,  883254608, 3606014404, 1881323964,\n",
        "          358843510,  612336310,  243283650, 3213483863, 2439829635,\n",
        "         2037243622, 3419380425, 2336869912, 2820367304, 2101743479,\n",
        "         2671105800,  789908150, 2491527667, 3094583844,  305971446,\n",
        "          378983235, 3270524463, 2851600659,  772181593, 2994976799,\n",
        "         2184948329, 1040443691, 1259384993,  856940410, 2948184579,\n",
        "         2230581459, 2567062941, 4260682820,  640754670, 1830389536,\n",
        "          966778682, 3070647859, 1342103147, 1756976877, 3772329221,\n",
        "         1659540986, 3929212690, 1330855568, 4236768164, 2684425007,\n",
        "          976322688, 2865512085,  296006782, 4092117239, 2724661223,\n",
        "         1117767497, 3653322907,  570572764,  592840005, 1270988841,\n",
        "         3567909905, 3300245162, 1791618065,  956888858, 2309610683,\n",
        "         2692054172, 4127022206,  940079385, 2540796699, 1623398556,\n",
        "          232503933, 2707187166, 1891740538, 4229205120, 2104613052,\n",
        "         2146397361, 1100808460, 3400336016, 2057888259,  426524959,\n",
        "            2977455,  521567895, 2102398941,  124349831, 3027741460,\n",
        "           18502590, 1869364784, 1283130358, 1925534539, 2882717813,\n",
        "         2953483581, 1495099460, 2200442322, 4169815006, 1045325043,\n",
        "         1505084656,   44530726,  986648718, 4180516867, 2329300588,\n",
        "         3766859947, 3355047004, 3695756629, 1987087606, 2535248582,\n",
        "         2034083358, 4285347058, 2090165389,  563214946, 3154944719,\n",
        "         2684334447, 1305696876, 1604947818, 2633328698,  689020620,\n",
        "          111181935, 1169597981,  838880377, 1148747370, 1517385226,\n",
        "         2017452517,   99129781, 1126889086,  422128360, 1795238854,\n",
        "          738257446, 2989950994,  544363818, 2785656396, 3654220792,\n",
        "          482835390, 2651191901, 3730980497, 3920630606,   29709740,\n",
        "         4228857491,  105092278, 1651375533, 2536025516, 2103420411,\n",
        "         1724844066,  155833125, 1629434240,  380145203, 3312792737,\n",
        "         1026157931, 1827249670,   35613154, 3938772651, 4162622991,\n",
        "         3962210176, 2466174905, 1380659544, 3508321381, 3047769869,\n",
        "          787511830, 4006622072, 3726234258, 2110055639, 2386403155,\n",
        "           17993854, 3780531648, 3781291932, 3445257761,  614924702,\n",
        "         4137114933, 3036842269,  838961844, 1256469540, 2723820489,\n",
        "         3392456829, 3538038268, 1053849363,  538130626, 2938777628,\n",
        "         1417817846,  158429679,  553649142, 2746697869, 3940188421,\n",
        "          149388340, 2851961294, 3360709147, 1781509832,  860001509,\n",
        "         1387084738, 1690426022, 3735511319,  747730441, 1552392520,\n",
        "         2519769898, 3074961239,  586501838, 3482962513, 1013522110,\n",
        "         1347960352, 2541322583,  754508889, 3925692412, 2558044947,\n",
        "         3144404785, 2002539278, 3308390736, 2648939709,  971518350,\n",
        "         3562602641, 3388673517, 2742022690,  803374411,  730368259,\n",
        "         2149086271, 4127957612, 1582803594, 3518470614, 4105425203,\n",
        "         3492086591, 3925127196, 1670410133, 3238500481,  408375386,\n",
        "          539244285, 3984107610, 2570873137, 3931067935, 2407956895,\n",
        "         1312550179, 1349058295, 1242594928, 1100682303, 1264777767,\n",
        "         3578026677, 3073255583, 4048703575, 3646869414,  327265918,\n",
        "         4067669026,  796376504, 2512477000, 2162612447, 3742725827,\n",
        "         3769862033, 4077088744, 3806974625, 4209362327, 2408293024,\n",
        "         3828461650,   55099237, 2827476592, 2399993273, 3808639056,\n",
        "          805745755, 3055448249, 2548709273, 3346427864, 2928316670,\n",
        "         3158633169,  315624307, 4016153593, 3720302690, 3437674257,\n",
        "         3944513824,  444285803, 3949160542, 3024377921, 2787454755,\n",
        "         1114600018, 4219632919, 3454494613, 2532125570, 3160254951,\n",
        "         1566176794, 1208333308, 1341985604, 1156178203,  462781199,\n",
        "          416373366, 3937409296,  809554559, 2753134815, 1118879288,\n",
        "         3756539431, 2405818644, 1232403340,  798356098, 3465409435,\n",
        "         3888399884,  278900176, 1443619879,  145765775, 2913332206,\n",
        "         3852750126, 2081825501, 1944518405,  227405249, 3732010682,\n",
        "         2188675812, 3412130544, 3793771028, 3683795509, 1493829196,\n",
        "          189803305, 2435009949,  177485164, 3798551521,  486880947,\n",
        "         1698771304,  401691602, 3485667876,  947054993, 3588796492,\n",
        "         2006154312, 3876524444, 3503651210,  216406462, 2524577937,\n",
        "          843273914, 2909635451, 1736006267, 1147775197, 1380217998,\n",
        "          606748601,  552786434, 3587284484, 4083110320,  646720818,\n",
        "          385177090,  615768154, 2609890438, 3964011379,  595865910,\n",
        "         1574792183, 3016887894, 1537710100, 2522541384, 3112315087,\n",
        "         1269126673, 1519746549, 1446306727, 3570448234, 3790980931,\n",
        "         3895806442,  374516372, 2401666694, 2760837949, 1361721275,\n",
        "          290465102, 2201814781,  964662822, 1522283155, 2305494006,\n",
        "         2831849358, 2447003163,  657737827,  296805066, 1702717402,\n",
        "         2796697242,  450233690,  361487236, 2881040386], dtype=uint32), 88, 0, 0.0))"
       ]
      }
     ],
     "prompt_number": 8
    },
    {
     "cell_type": "code",
     "collapsed": false,
     "input": [
      "print shape(sampler)\n",
      "samples = sampler.chain[:, 207:, :].reshape((-1, ndim))\n",
      "#samples = sampler.flatchain\n",
      "print samples\n",
      "#print shape(samples)\n",
      "import triangle\n",
      "fig = triangle.corner(samples, labels=[\"$a$\", \"$b$\"],\n",
      "                      truths=[a_walk0, b_walk0])\n",
      "fig.savefig(\"triangle.png\")\n",
      "\n"
     ],
     "language": "python",
     "metadata": {},
     "outputs": [
      {
       "output_type": "stream",
       "stream": "stdout",
       "text": [
        "()\n",
        "[[ 31.22976245   0.11991882]\n",
        " [ 31.25271423   0.11983623]\n",
        " [ 31.28872174   0.11989064]\n",
        " ..., \n",
        " [ 31.32348808   0.12018346]\n",
        " [ 31.32348808   0.12018346]\n",
        " [ 31.28069844   0.12015315]]\n"
       ]
      },
      {
       "metadata": {},
       "output_type": "display_data",
       "png": "[encoded data removed]",
       "text": [
        "<matplotlib.figure.Figure at 0xaeb845ac>"
       ]
      }
     ],
     "prompt_number": 9
    },
    {
     "cell_type": "code",
     "collapsed": false,
     "input": [
      "s_fc=samples_fc = sampler.flatchain\n",
      "y,bins,info = hist(s_fc[:,1], 207)\n",
      "show()"
     ],
     "language": "python",
     "metadata": {},
     "outputs": [
      {
       "metadata": {},
       "output_type": "display_data",
       "png": "[encoded data removed]",
       "text": [
        "<matplotlib.figure.Figure at 0xadfa876c>"
       ]
      }
     ],
     "prompt_number": 12
    },
    {
     "cell_type": "code",
     "collapsed": false,
     "input": [
      "print(len(y))\n",
      "print(len(bins))\n",
      "id_max = argmax(y)\n",
      "x = mean([bins[id_max],bins[id_max+1]])\n",
      "print(x)"
     ],
     "language": "python",
     "metadata": {},
     "outputs": [
      {
       "output_type": "stream",
       "stream": "stdout",
       "text": [
        "207\n",
        "208\n",
        "0.120940322777\n"
       ]
      }
     ],
     "prompt_number": 20
    },
    {
     "cell_type": "code",
     "collapsed": false,
     "input": [
      "savetxt('sampler_flatchain.dat', s_fc, delimiter=',')\n",
      "print(\"Mean acceptance fraction: {0:.3f}\".format(mean(sampler.acceptance_fraction)))"
     ],
     "language": "python",
     "metadata": {},
     "outputs": [
      {
       "output_type": "stream",
       "stream": "stdout",
       "text": [
        "Mean acceptance fraction: 0.719\n"
       ]
      }
     ],
     "prompt_number": 93
    },
    {
     "cell_type": "code",
     "collapsed": false,
     "input": [],
     "language": "python",
     "metadata": {},
     "outputs": []
    },
    {
     "cell_type": "code",
     "collapsed": false,
     "input": [
      "#Running emcee\n",
      "ndim = 2 #numero de walkers\n",
      "nwalkers = 4\n",
      "nsteps = 2000\n",
      "\n",
      "#pos0 = [first_guess+ random.randn(ndim) for i in range(nwalkers)]\n",
      "\n",
      "#pos0 = [np.random.rand(ndim) for i in xrange(nwalkers)]\n",
      "sampler = emcee.EnsembleSampler(nwalkers, ndim, lnprob, args=(x_data, y_data), threads=1)\n",
      "\n",
      "arr = sampler.run_mcmc(pos0, nsteps, rstate0=random.get_state())\n",
      "# Run 100 steps as a burn-in.\n",
      "#pos, prob, state = sampler.run_mcmc(p0, 100)\n",
      "\n",
      "print(\"Done!\")\n",
      "#print len(a)\n",
      "#print len(b)\n",
      "#print len(c)\n",
      "print shape(arr)\n"
     ],
     "language": "python",
     "metadata": {},
     "outputs": [
      {
       "output_type": "stream",
       "stream": "stdout",
       "text": [
        "Done!\n",
        "(3,)\n"
       ]
      }
     ],
     "prompt_number": 39
    },
    {
     "cell_type": "code",
     "collapsed": false,
     "input": [
      "samples = sampler.chain[:, 207:, :].reshape((-1, ndim))\n",
      "#samples = sampler.flatchain\n",
      "print samples\n",
      "print shape(samples)\n"
     ],
     "language": "python",
     "metadata": {},
     "outputs": [
      {
       "output_type": "stream",
       "stream": "stdout",
       "text": [
        "[[ -5.40809473   0.23093207]\n",
        " [ -5.40809473   0.23093207]\n",
        " [ -5.40809473   0.23093207]\n",
        " ..., \n",
        " [ 10.37016557   0.19347572]\n",
        " [ 10.37016557   0.19347572]\n",
        " [ 10.37016557   0.19347572]]\n",
        "(7172, 2)\n"
       ]
      }
     ],
     "prompt_number": 40
    },
    {
     "cell_type": "code",
     "collapsed": false,
     "input": [
      "import triangle\n",
      "fig = triangle.corner(samples, labels=[\"$a$\", \"$b$\"],\n",
      "                      truths=[a_walk0, b_walk0])\n",
      "fig.savefig(\"triangle.png\")"
     ],
     "language": "python",
     "metadata": {},
     "outputs": [
      {
       "metadata": {},
       "output_type": "display_data",
       "png": "[encoded data removed]",
       "text": [
        "<matplotlib.figure.Figure at 0xb024660c>"
       ]
      }
     ],
     "prompt_number": 41
    },
    {
     "cell_type": "code",
     "collapsed": false,
     "input": [
      "samples = sampler.flatchain\n",
      "print samples\n",
      "print shape(samples)"
     ],
     "language": "python",
     "metadata": {},
     "outputs": [
      {
       "output_type": "stream",
       "stream": "stdout",
       "text": [
        "[[-21.12544307   0.50203387]\n",
        " [-21.12544307   0.50203387]\n",
        " [-21.12544307   0.50203387]\n",
        " ..., \n",
        " [-22.20112473   2.96923236]\n",
        " [-22.20112473   2.96923236]\n",
        " [-22.20112473   2.96923236]]\n",
        "(8000, 2)\n"
       ]
      }
     ],
     "prompt_number": 60
    },
    {
     "cell_type": "code",
     "collapsed": false,
     "input": [
      "import matplotlib.pyplot as pl\n",
      "for a_walk, b_walk in samples[np.random.randint(len(samples), size=207)]:\n",
      "    plot(x_data, b_walk*x_data + a_walk, color=\"k\", alpha=0.1)\n",
      "plot(x_data, b_walk0*x_data +a_walk0, color=\"r\", lw=2, alpha=0.8)\n",
      "#pl.errorbar(x, y, yerr=yerr, fmt=\".k\")"
     ],
     "language": "python",
     "metadata": {},
     "outputs": [
      {
       "metadata": {},
       "output_type": "pyout",
       "prompt_number": 12,
       "text": [
        "[<matplotlib.lines.Line2D at 0xb028fc4c>]"
       ]
      },
      {
       "metadata": {},
       "output_type": "display_data",
       "png": "[encoded data removed]",
       "text": [
        "<matplotlib.figure.Figure at 0xb028fc2c>"
       ]
      }
     ],
     "prompt_number": 12
    },
    {
     "cell_type": "code",
     "collapsed": false,
     "input": [],
     "language": "python",
     "metadata": {},
     "outputs": []
    }
   ],
   "metadata": {}
  }
 ]
}