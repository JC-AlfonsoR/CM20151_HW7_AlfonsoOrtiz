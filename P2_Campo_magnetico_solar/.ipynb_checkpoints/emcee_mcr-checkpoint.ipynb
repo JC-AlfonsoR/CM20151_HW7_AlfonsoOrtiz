{
 "metadata": {
  "name": "",
  "signature": "sha256:89ed61df9929a5dcdb05aaf44090992fa0351a72543927d311b1a048473d028f"
 },
 "nbformat": 3,
 "nbformat_minor": 0,
 "worksheets": [
  {
   "cells": [
    {
     "cell_type": "code",
     "collapsed": false,
     "input": [
      "import emcee\n",
      "import pyfits\n",
      "%pylab inline\n",
      "\n",
      "datos = pyfits.open('hmi.m_45s.magnetogram.subregion_x1y1.fits')\n",
      "cols = datos[0].data\n",
      "x = linspace(0, 397, 398)\n",
      "y = linspace(0, 198, 199)\n",
      "z = linspace(0, 206, 207)\n",
      "x_data=np.genfromtxt('times_delta.csv', delimiter=',')\n",
      "y_data = cols[:,3,6]\n",
      "#arreglo para el tiempo\n"
     ],
     "language": "python",
     "metadata": {},
     "outputs": [
      {
       "output_type": "stream",
       "stream": "stdout",
       "text": [
        "Populating the interactive namespace from numpy and matplotlib\n"
       ]
      },
      {
       "output_type": "stream",
       "stream": "stderr",
       "text": [
        "WARNING: pylab import has clobbered these variables: ['ndim']\n",
        "`%matplotlib` prevents importing * from pylab and numpy\n"
       ]
      }
     ],
     "prompt_number": 78
    },
    {
     "cell_type": "code",
     "collapsed": false,
     "input": [
      "def model(a_walk, b_walk, x_d, y_d): #dejar x y y?\n",
      "    y_m = x_d*b_walk + a_walk\n",
      "    return y_m"
     ],
     "language": "python",
     "metadata": {},
     "outputs": [],
     "prompt_number": 79
    },
    {
     "cell_type": "code",
     "collapsed": false,
     "input": [
      "#emcee functions\n",
      "def lnprior(param):\n",
      "    a_walk, b_walk= param\n",
      "    if -200.0 < a_walk < 200.0 and -1 < b_walk < 1:\n",
      "        return 0.0\n",
      "    return -inf"
     ],
     "language": "python",
     "metadata": {},
     "outputs": [],
     "prompt_number": 80
    },
    {
     "cell_type": "code",
     "collapsed": false,
     "input": [
      "def lnlike(param, x_d, y_d):\n",
      "    a_walk, b_walk= param\n",
      "    y_m = model(a_walk, b_walk, x_d, y_d)\n",
      "    chi_cuadrado= (1.0/2.0)*sum((y_d-y_m)**2) #campo_m =y_d\n",
      "    return -chi_cuadrado\n"
     ],
     "language": "python",
     "metadata": {},
     "outputs": [],
     "prompt_number": 81
    },
    {
     "cell_type": "code",
     "collapsed": false,
     "input": [
      "def lnprob(param, x_d, y_d):\n",
      "    lp = lnprior(param)\n",
      "    if not isfinite(lp):\n",
      "        return -inf\n",
      "    return lp + lnlike(param, x_d, y_d)"
     ],
     "language": "python",
     "metadata": {},
     "outputs": [],
     "prompt_number": 82
    },
    {
     "cell_type": "code",
     "collapsed": false,
     "input": [
      "a_walk0 = np.random.random()*400 -200\n",
      "b_walk0 = np.random.random()*2 -1\n",
      "\n",
      "model(a_walk0,b_walk0,x_data, y_data)\n",
      "#print y_0\n",
      "\n",
      "import scipy.optimize as op\n",
      "nll = lambda *args: -lnlike(*args)\n",
      "result = op.minimize(nll, [a_walk0, b_walk0], args=(x_data, y_data))\n",
      "a_ml, b_ml = result[\"x\"]\n"
     ],
     "language": "python",
     "metadata": {},
     "outputs": [],
     "prompt_number": 83
    },
    {
     "cell_type": "code",
     "collapsed": false,
     "input": [
      "#first_guess = [a_walk0, b_walk0]\n",
      "#print first_guess\n",
      "#print a_ml\n",
      "#print b_ml\n",
      "#print model(a_ml, b_ml, x_data, y_data)"
     ],
     "language": "python",
     "metadata": {},
     "outputs": [],
     "prompt_number": 84
    },
    {
     "cell_type": "code",
     "collapsed": false,
     "input": [
      "#Running emcee\n",
      "ndim = 2 #numero de walkers\n",
      "nwalkers = 4\n",
      "nsteps = 2000\n",
      "pos0 = [result[\"x\"] + 1e-4*np.random.randn(ndim) for i in range(nwalkers)]\n",
      "sampler = emcee.EnsembleSampler(nwalkers, ndim, lnprob, args=(x_data, y_data), threads=1)\n",
      "sampler.run_mcmc(pos0, nsteps, rstate0=random.get_state())\n"
     ],
     "language": "python",
     "metadata": {},
     "outputs": [
      {
       "metadata": {},
       "output_type": "pyout",
       "prompt_number": 89,
       "text": [
        "(array([[ 30.96075301,   0.12118868],\n",
        "        [ 31.4305659 ,   0.11977556],\n",
        "        [ 31.20120802,   0.12033515],\n",
        "        [ 31.51677049,   0.11960849]]),\n",
        " array([-15342.78522456, -15343.95953216, -15342.6779546 , -15345.21772556]),\n",
        " ('MT19937', array([1933963099, 2737982589, 2264428361, 3831754373, 1385948955,\n",
        "         3385223348,  126655184, 4270330343, 3460498877, 4146370716,\n",
        "         3732515393,  524137687, 1753054711, 2817713978, 3481263313,\n",
        "         1417749482,  282643298, 3434591602, 2371467411, 4245863672,\n",
        "         3808000279, 2354982494, 3588411614, 1209623784, 3391354815,\n",
        "          132946937,  757223615, 1907806437, 3303714517, 3563297719,\n",
        "         4247664009,  497606391, 2648984346,  869343625, 3952749460,\n",
        "         3525776363, 2687770118,  350033758, 1315763525, 1520244379,\n",
        "           69116842, 2947005371, 3638405298,  895159480,  273420762,\n",
        "         1920976543, 2832096904, 2849089832, 2504336491, 2660986683,\n",
        "         1245913944, 2472330178, 2141569823,  641815042, 1171132452,\n",
        "         2597204406,   38023108, 2221164641, 3213694619,  970956740,\n",
        "         3894542972, 2415274584, 2779011440,  231785103,  491364213,\n",
        "         1019959476, 1402261427, 3426638419, 2267267816,  279309798,\n",
        "         1979417045, 3790729480,  186208939,  939530022, 1837206599,\n",
        "         3329833319, 2957589418, 2162289394, 1320517248,  458895787,\n",
        "           71876149,  852663697, 1860484977, 2994305746, 2611000962,\n",
        "         1720104286,  166875363, 1924466975,  449516568,  422564005,\n",
        "         2287880747, 2001083849, 2385712403, 3939179653,  901249947,\n",
        "         4237871991, 2820579533, 2515258757, 3410199510,  510537052,\n",
        "         1362621121, 1857578675, 2146637232, 2450104750,  342710553,\n",
        "          952621210, 3275401864, 3447388960, 2325703199, 1659080293,\n",
        "           60298100, 3612916754, 2093284872, 3337448357, 1557632778,\n",
        "         2237489569, 2479552084,  330733425, 2041872413, 3940372894,\n",
        "         1145655831, 1574181885, 4238295342,  673998657, 1313067025,\n",
        "          123678192, 1598536685, 1197948562, 2109684217, 2937169372,\n",
        "         2452264886,  311105210, 2569682304, 1072852029, 3326674704,\n",
        "          584405549, 1160999250, 3227766381, 2656258489, 3693049390,\n",
        "         3105442669, 2643089214, 3330115810, 1171226945, 3082422742,\n",
        "            3028072, 1863119131, 1783994071, 1604680866, 1624715905,\n",
        "          651603300,  655541535, 1755274834, 3837354827, 3363293847,\n",
        "          788929451, 3802257200, 1416131387, 2515504140, 1881556850,\n",
        "         3188123617,  499038098, 3727076304,  157112028,  270684175,\n",
        "         1085708726, 1856851000, 3592256854, 2854637783, 2482131674,\n",
        "         4013056847, 1784392265, 3663020103, 4273256591, 2691781131,\n",
        "         3022350931,  128367478, 1720830027,  842337687, 3050186741,\n",
        "         2806482265, 3997525806,  218581749,  329422049, 2348486306,\n",
        "           93021342, 3303004787, 4282258989, 4028452641,  427280732,\n",
        "         3538959352, 2301526973, 1423059722,  318382627, 3758218529,\n",
        "          642404072, 2906703663, 2395762049,  601651240, 1736811821,\n",
        "         2248486286, 1248269233, 4092278582, 3318939485, 1388047962,\n",
        "          412938426,  187923318, 1470796261, 1594016197,  575464607,\n",
        "         2941562789, 2684829779,  395435388, 3224211598, 3318920771,\n",
        "         3662716679, 1523160323, 3438397981,  486080725, 2274911303,\n",
        "         2550044367, 2513153426, 1502178672, 3285680962, 2611460162,\n",
        "         4048253012, 3681206704,  730422447, 2560510206, 1107357261,\n",
        "         2394806921, 2254914943, 2761203512,  355060280, 3430845332,\n",
        "          450612883, 3391697538, 2173021473, 1446616897,  747592365,\n",
        "         3442358699, 1394647957,  899242460, 2996365552, 3371565107,\n",
        "         1335449814, 3500618272,  865877848, 1141962910, 2875727897,\n",
        "         1365201999,  210658155,  995291107,  918989865, 2515919407,\n",
        "         3999820610, 1163718360, 1692047509,  217727407, 1998457821,\n",
        "         2292227112, 3850855152, 3981376655, 1861572387, 3739059760,\n",
        "         2907983122,  841590810, 2324580268, 3940492102,  921319859,\n",
        "         2767344638, 3834175354,  241333639, 1661175515,  231406227,\n",
        "         1491548677,  198536133, 1624358827, 4235001030, 1834548632,\n",
        "          190874373,  880850795,  539064474, 3648322883, 3289924856,\n",
        "         4250897123, 2994025724,  769221296, 2145696789, 1918335826,\n",
        "         1028030736, 2580913497, 3943511871, 3334848366,  991370671,\n",
        "         2850666093, 3080256964, 2006576882,  499228216,  463851299,\n",
        "         3011879243, 1298436103, 3388302519, 2253778162, 1636988380,\n",
        "         3789059345, 3566929478, 1816199658, 1297529742,  984829697,\n",
        "         1065400780, 3134832820, 1961134730, 3045249605, 3336114575,\n",
        "         4183698321, 2588829336, 2814165545, 2015675071, 2441900981,\n",
        "          216363538, 3888142225, 3755957728,  807657958, 3355600455,\n",
        "         3775558188, 3956796187, 2854135066, 3527123688, 1690757260,\n",
        "         2868372940, 1536309510, 3744256625, 4048548119, 4022771508,\n",
        "          928211119, 3395156995, 3172077132, 4203981017, 1585224352,\n",
        "         1038895907, 3626838492, 3990555754, 2024650036, 2543881733,\n",
        "          947148786, 3033332049, 3023392513, 3744662187, 2784972615,\n",
        "          506028764,  578995139,   73873425,  230998257, 2620765827,\n",
        "           72108057,  408645445,   85917907, 2232114675,  234365759,\n",
        "          250826067, 2439928145,   58007606,  121159748, 4195860986,\n",
        "         1037671133, 3829488554, 2340692551, 3597534871, 3987813272,\n",
        "         2759756996, 2058823677, 4063161704, 1369434655,  372029565,\n",
        "         3645437386,  369077120,  108015970, 1124362727, 3116105799,\n",
        "         1813514431, 1911380536, 3537516871, 1872832300, 1540462659,\n",
        "          343800256, 2642469381, 1002431789, 3893438073, 1765903980,\n",
        "          271411709, 1697762219,  972388309, 1038333823, 4167678690,\n",
        "         1417039688,  618670818, 2662524927, 3350745835, 1293462472,\n",
        "         3145918580, 1653315549,   59782653, 1371528369, 1559940614,\n",
        "         1767739941, 3236545784, 3637522363,  815361661, 1558787847,\n",
        "         1305583335, 1816410869, 2106672641, 3401434368,  452432104,\n",
        "         3789089938, 3809812875, 1537993286,    4901269, 1379032502,\n",
        "         2328843491, 1544675087, 3704148877, 1807419083, 3576900754,\n",
        "         4185938343, 1620302197, 1125049410, 4090992393, 3678810538,\n",
        "         3798551944, 2823236456, 1622511436, 4010814064,  343604195,\n",
        "           18133762,  429313384, 1233018672, 2969510804,  503167691,\n",
        "         3176114145, 1982099172, 2472977253, 2127168164, 3125889890,\n",
        "         1092121097, 3285401260, 1895200197, 3028890431, 3777931339,\n",
        "         1061213246, 2887012954, 1398047986, 4255359934, 1321868717,\n",
        "         2436883119,  147932058, 3487680270,    3445383, 1612209759,\n",
        "         3775737159, 2629493072, 3719795076, 3408713300, 2817073326,\n",
        "         3841435183, 1415340442, 2767146968, 1295838374, 2675717036,\n",
        "          823156413, 2109867208, 4265072258, 4163434075,  476338240,\n",
        "         2109980986, 2488266503, 3045358699, 2809682884, 1385014437,\n",
        "          428319648, 2568666695, 1286605073,  449362558, 2561244611,\n",
        "         2468398413,   23996221, 3529675135,  983839616, 2034453427,\n",
        "         2548091651,  658241903, 3471847662, 2731992352, 3018566621,\n",
        "           61680422, 3744549966, 3479486023, 1986086698, 1719103023,\n",
        "         1114421987,  430473078, 2312206903, 1993131204, 1493880660,\n",
        "         1162452375, 3615023178, 3025193468,   27264578, 1105182695,\n",
        "         3916633248,  742970838, 2753263325,  447644853,  914130746,\n",
        "         2819366131, 1162559622, 3674265774, 2415692893, 3862718591,\n",
        "          641867599, 2320802755,  542175730, 2662171977,  297626161,\n",
        "         3364670231,  881918840, 1448398324,   69962360,   88364355,\n",
        "         1748435939, 2290020561, 1799380718, 1494281787, 3576656059,\n",
        "         4093134666, 1351423299,  409787301, 2632229309, 3894334222,\n",
        "         3905840221, 2912515647, 1369105266,  799364384, 3411028390,\n",
        "         4128382327, 3176648983,  182361785, 2942414426, 2794049256,\n",
        "         2977157119, 1677456507, 4114018528, 2179031304, 3052023562,\n",
        "         2754661099, 1381320419, 2698208813,  145539305,  237401037,\n",
        "         3871075229, 2265405926, 2819741745, 4084589184, 2723320926,\n",
        "         3140295644, 1311294999,  591915819, 3257191501, 2482141357,\n",
        "         1516852991,   20419227, 3956169919, 3846248485, 2458803515,\n",
        "         1533998392,  152078913, 2846282854, 3061205510,  260808918,\n",
        "         1247770361, 3046094764,  468282840, 2458353119, 2352876416,\n",
        "         2269868595,  749219785,  205312543,  992164234,   39125848,\n",
        "         3393483062, 1595219323, 1379936440, 3314102775, 3296822791,\n",
        "          825300207, 3419204130,  877892316, 1332148826,  468301270,\n",
        "         1501551571, 3617150352, 1136873078,  468249370,  121074409,\n",
        "         1699153714, 1054117925, 2903368634, 3493869541, 3911376056,\n",
        "          988813711, 2442853391, 3076189476, 3559250576, 3322525129,\n",
        "          411695280,   73881060, 3059911899,  794077757, 1701000475,\n",
        "         3732938520, 1156391957, 3575519062, 3293212048], dtype=uint32), 431, 0, 0.0))"
       ]
      }
     ],
     "prompt_number": 89
    },
    {
     "cell_type": "code",
     "collapsed": false,
     "input": [
      "print shape(sampler)\n",
      "samples = sampler.chain[:, 207:, :].reshape((-1, ndim))\n",
      "#samples = sampler.flatchain\n",
      "print samples\n",
      "#print shape(samples)\n",
      "import triangle\n",
      "fig = triangle.corner(samples, labels=[\"$a$\", \"$b$\"],\n",
      "                      truths=[a_walk0, b_walk0])\n",
      "fig.savefig(\"triangle.png\")\n",
      "\n"
     ],
     "language": "python",
     "metadata": {},
     "outputs": [
      {
       "output_type": "stream",
       "stream": "stdout",
       "text": [
        "()\n",
        "[[ 31.11908889   0.12089168]\n",
        " [ 30.9455681    0.12147751]\n",
        " [ 30.64781563   0.12248498]\n",
        " ..., \n",
        " [ 31.58510133   0.11946064]\n",
        " [ 31.51677049   0.11960849]\n",
        " [ 31.51677049   0.11960849]]\n"
       ]
      },
      {
       "metadata": {},
       "output_type": "display_data",
       "png": "[encoded data removed]",
       "text": [
        "<matplotlib.figure.Figure at 0xafc091ec>"
       ]
      }
     ],
     "prompt_number": 90
    },
    {
     "cell_type": "code",
     "collapsed": false,
     "input": [
      "try:\n",
      "    import matplotlib.pyplot as pl\n",
      "except ImportError:\n",
      "        print(\"Try installing matplotlib to generate some sweet plots...\")\n",
      "else:\n",
      "    s_fc=samples_fc = sampler.flatchain\n",
      "    pl.hist(s_fc[:,1], 207)\n",
      "    pl.show()"
     ],
     "language": "python",
     "metadata": {},
     "outputs": [
      {
       "metadata": {},
       "output_type": "display_data",
       "png": "[encoded data removed]",
       "text": [
        "<matplotlib.figure.Figure at 0xad420b0c>"
       ]
      }
     ],
     "prompt_number": 92
    },
    {
     "cell_type": "code",
     "collapsed": false,
     "input": [
      "savetxt('sampler_flatchain.dat', s_fc, delimiter=',')\n",
      "print(\"Mean acceptance fraction: {0:.3f}\".format(mean(sampler.acceptance_fraction)))"
     ],
     "language": "python",
     "metadata": {},
     "outputs": [
      {
       "output_type": "stream",
       "stream": "stdout",
       "text": [
        "Mean acceptance fraction: 0.719\n"
       ]
      }
     ],
     "prompt_number": 93
    },
    {
     "cell_type": "code",
     "collapsed": false,
     "input": [
      "#Running emcee\n",
      "ndim = 2 #numero de walkers\n",
      "nwalkers = 4\n",
      "nsteps = 2000\n",
      "\n",
      "#pos0 = [first_guess+ random.randn(ndim) for i in range(nwalkers)]\n",
      "\n",
      "#pos0 = [np.random.rand(ndim) for i in xrange(nwalkers)]\n",
      "sampler = emcee.EnsembleSampler(nwalkers, ndim, lnprob, args=(x_data, y_data), threads=1)\n",
      "\n",
      "arr = sampler.run_mcmc(pos0, nsteps, rstate0=random.get_state())\n",
      "# Run 100 steps as a burn-in.\n",
      "#pos, prob, state = sampler.run_mcmc(p0, 100)\n",
      "\n",
      "print(\"Done!\")\n",
      "#print len(a)\n",
      "#print len(b)\n",
      "#print len(c)\n",
      "print shape(arr)\n"
     ],
     "language": "python",
     "metadata": {},
     "outputs": [
      {
       "output_type": "stream",
       "stream": "stdout",
       "text": [
        "Done!\n",
        "(3,)\n"
       ]
      }
     ],
     "prompt_number": 39
    },
    {
     "cell_type": "code",
     "collapsed": false,
     "input": [
      "samples = sampler.chain[:, 207:, :].reshape((-1, ndim))\n",
      "#samples = sampler.flatchain\n",
      "print samples\n",
      "print shape(samples)\n"
     ],
     "language": "python",
     "metadata": {},
     "outputs": [
      {
       "output_type": "stream",
       "stream": "stdout",
       "text": [
        "[[ -5.40809473   0.23093207]\n",
        " [ -5.40809473   0.23093207]\n",
        " [ -5.40809473   0.23093207]\n",
        " ..., \n",
        " [ 10.37016557   0.19347572]\n",
        " [ 10.37016557   0.19347572]\n",
        " [ 10.37016557   0.19347572]]\n",
        "(7172, 2)\n"
       ]
      }
     ],
     "prompt_number": 40
    },
    {
     "cell_type": "code",
     "collapsed": false,
     "input": [
      "import triangle\n",
      "fig = triangle.corner(samples, labels=[\"$a$\", \"$b$\"],\n",
      "                      truths=[a_walk0, b_walk0])\n",
      "fig.savefig(\"triangle.png\")"
     ],
     "language": "python",
     "metadata": {},
     "outputs": [
      {
       "metadata": {},
       "output_type": "display_data",
       "png": "[encoded data removed]",
       "text": [
        "<matplotlib.figure.Figure at 0xb024660c>"
       ]
      }
     ],
     "prompt_number": 41
    },
    {
     "cell_type": "code",
     "collapsed": false,
     "input": [
      "samples = sampler.flatchain\n",
      "print samples\n",
      "print shape(samples)"
     ],
     "language": "python",
     "metadata": {},
     "outputs": [
      {
       "output_type": "stream",
       "stream": "stdout",
       "text": [
        "[[-21.12544307   0.50203387]\n",
        " [-21.12544307   0.50203387]\n",
        " [-21.12544307   0.50203387]\n",
        " ..., \n",
        " [-22.20112473   2.96923236]\n",
        " [-22.20112473   2.96923236]\n",
        " [-22.20112473   2.96923236]]\n",
        "(8000, 2)\n"
       ]
      }
     ],
     "prompt_number": 60
    },
    {
     "cell_type": "code",
     "collapsed": false,
     "input": [
      "import matplotlib.pyplot as pl\n",
      "for a_walk, b_walk in samples[np.random.randint(len(samples), size=207)]:\n",
      "    plot(x_data, b_walk*x_data + a_walk, color=\"k\", alpha=0.1)\n",
      "plot(x_data, b_walk0*x_data +a_walk0, color=\"r\", lw=2, alpha=0.8)\n",
      "#pl.errorbar(x, y, yerr=yerr, fmt=\".k\")"
     ],
     "language": "python",
     "metadata": {},
     "outputs": [
      {
       "metadata": {},
       "output_type": "pyout",
       "prompt_number": 12,
       "text": [
        "[<matplotlib.lines.Line2D at 0xb028fc4c>]"
       ]
      },
      {
       "metadata": {},
       "output_type": "display_data",
       "png": "[encoded data removed]",
       "text": [
        "<matplotlib.figure.Figure at 0xb028fc2c>"
       ]
      }
     ],
     "prompt_number": 12
    },
    {
     "cell_type": "code",
     "collapsed": false,
     "input": [],
     "language": "python",
     "metadata": {},
     "outputs": []
    }
   ],
   "metadata": {}
  }
 ]
}