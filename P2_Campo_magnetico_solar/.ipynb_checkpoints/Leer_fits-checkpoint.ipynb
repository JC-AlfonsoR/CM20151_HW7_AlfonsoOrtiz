{
 "metadata": {
  "name": "",
  "signature": "sha256:8ba975a938346827e3e8b8a36f9ea5bb178d4ccafe88dc647b01c0b7bf265965"
 },
 "nbformat": 3,
 "nbformat_minor": 0,
 "worksheets": [
  {
   "cells": [
    {
     "cell_type": "code",
     "collapsed": false,
     "input": [
      "%pylab inline\n",
      "import pyfits\n",
      "import numpy as np"
     ],
     "language": "python",
     "metadata": {},
     "outputs": [
      {
       "output_type": "stream",
       "stream": "stdout",
       "text": [
        "Populating the interactive namespace from numpy and matplotlib\n"
       ]
      },
      {
       "output_type": "stream",
       "stream": "stderr",
       "text": [
        "WARNING: pylab import has clobbered these variables: ['test']\n",
        "`%matplotlib` prevents importing * from pylab and numpy\n"
       ]
      }
     ],
     "prompt_number": 32
    },
    {
     "cell_type": "code",
     "collapsed": false,
     "input": [
      "sdo = pyfits.open('hmi.m_45s.magnetogram.subregion_x1y1.fits')\n",
      "#date = loadtxt(\"hmi.m_45s.magnetogram.subregion.times.csv\", delimiter=\",\")"
     ],
     "language": "python",
     "metadata": {},
     "outputs": [],
     "prompt_number": 22
    },
    {
     "cell_type": "code",
     "collapsed": false,
     "input": [
      "data[0].header "
     ],
     "language": "python",
     "metadata": {},
     "outputs": [
      {
       "metadata": {},
       "output_type": "pyout",
       "prompt_number": 23,
       "text": [
        "SIMPLE  =                    T / Written by IDL:  Wed Apr 15 08:21:09 2015      \n",
        "BITPIX  =                  -32 / IEEE single precision floating point           \n",
        "NAXIS   =                    3 / number of data axes                            \n",
        "NAXIS1  =                  398 /Number of positions along axis 1                \n",
        "NAXIS2  =                  199 /Number of positions along axis 2                \n",
        "NAXIS3  =                  207 /Number of positions along axis 3                \n",
        "EXTEND  =                    T / FITS dataset may contain extensions            \n",
        "COMMENT   FITS (Flexible Image Transport System) format is defined in 'Astronomy\n",
        "COMMENT   and Astrophysics', volume 376, page 359; bibcode: 2001A&A...376..359H \n",
        "DATE    = '2012-09-05T08:09:16'                                                 \n",
        "DATE-OBS= '2011-03-09T23:20:44.90'                                              \n",
        "TELESCOP= 'SDO/HMI'                                                             \n",
        "INSTRUME= 'HMI_FRONT2'                                                          \n",
        "WAVELNTH= 6173.0                                                                \n",
        "CAMERA  =                    2                                                  \n",
        "BUNIT   = 'Gauss'                                                               \n",
        "ORIGIN  = 'SDO/JSOC-SDP'                                                        \n",
        "CONTENT = 'MAGNETOGRAM'                                                         \n",
        "QUALITY =                    0                                                  \n",
        "QUALLEV1=                    0                                                  \n",
        "HISTORY Polynomial Coefficients used for Doppler velocity correction: 1.530545e+\n",
        "HISTORY 02 5.115161e-03 -1.195827e-06 3.565412e-10                              \n",
        "HISTORY CROTA2 corrected by adding -0.0702 degrees                              \n",
        "COMMENT De-rotation: ON; Un-distortion: ON; Re-centering: ON; Re-sizing: OFF; RS\n",
        "COMMENT UNerr=0.5; correction for cosmic-ray hits                               \n",
        "BLD_VERS= '-512'                                                                \n",
        "HCAMID  =                    3                                                  \n",
        "SOURCE  = '''hmi.lev1[:#17270357,#17270333,#17270321,#17270393,#17270381,#1727&'\n",
        "CONTINUE  '0441&'                                                               \n",
        "TOTVALS =             12155197                                                  \n",
        "DATAVALS=             12155197                                                  \n",
        "MISSVALS=                    0                                                  \n",
        "SATVALS =                16702                                                  \n",
        "DATAMIN2= -4373.531738                                                          \n",
        "DATAMAX2= 4373.531738                                                           \n",
        "DATAMED2= 0.077605                                                              \n",
        "DATAMEA2= 0.594546                                                              \n",
        "DATARMS2= 79.274010                                                             \n",
        "DATASKE2= 5.718150                                                              \n",
        "DATAKUR2= 1277.539429                                                           \n",
        "DATAMIN = -1761.134888                                                          \n",
        "DATAMAX = 1657.542969                                                           \n",
        "DATAMEDN= 0.082133                                                              \n",
        "DATAMEAN= 0.382997                                                              \n",
        "DATARMS = 45.372253                                                             \n",
        "DATASKEW= -0.447662                                                             \n",
        "DATAKURT= 346.078186                                                            \n",
        "CTYPE1  = 'HPLN-TAN'                                                            \n",
        "CTYPE2  = 'HPLT-TAN'                                                            \n",
        "CRPIX1  = 2044.556763                                                           \n",
        "CRPIX2  = 2044.228271                                                           \n",
        "CRVAL1  = 0.000000                                                              \n",
        "CRVAL2  = 0.000000                                                              \n",
        "CDELT1  = 0.504221                                                              \n",
        "CDELT2  = 0.504221                                                              \n",
        "CUNIT1  = 'arcsec'                                                              \n",
        "CUNIT2  = 'arcsec'                                                              \n",
        "CROTA2  = 179.929947                                                            \n",
        "CRDER1  = 'nan     '                                                            \n",
        "CRDER2  = 'nan     '                                                            \n",
        "CSYSER1 = 'nan     '                                                            \n",
        "CSYSER2 = 'nan     '                                                            \n",
        "WCSNAME = 'Helioprojective-cartesian'                                           \n",
        "DSUN_OBS= 148522381638.35                                                       \n",
        "DSUN_REF= 149597870691                                                          \n",
        "RSUN_REF= 696000000                                                             \n",
        "CRLN_OBS= 80.226387                                                             \n",
        "CRLT_OBS= -7.249780                                                             \n",
        "CAR_ROT =                 2107                                                  \n",
        "OBS_VR  = 3114.102152                                                           \n",
        "OBS_VW  = 29449.848090                                                          \n",
        "OBS_VN  = -1204.214980                                                          \n",
        "RSUN_OBS= 966.593933                                                            \n",
        "T_OBS   = '2011.03.09_23:21:41_TAI'                                             \n",
        "T_REC   = '2011.03.09_23:21:45_TAI'                                             \n",
        "TRECEPOC= '1993.01.01_00:00:00_TAI'                                             \n",
        "TRECSTEP= 45.0                                                                  \n",
        "TRECUNIT= 'secs'                                                                \n",
        "CADENCE = 45.0                                                                  \n",
        "DATASIGN=                    1                                                  \n",
        "HFLID   =                 1021                                                  \n",
        "HCFTID  =                   11                                                  \n",
        "QLOOK   =                    0                                                  \n",
        "CAL_FSN =             14171657                                                  \n",
        "LUTQUERY= 'hmi.lookup[14171657][][3][37][56][0][82]'                            \n",
        "TSEL    = 23.599867                                                             \n",
        "TFRONT  = 31.683842                                                             \n",
        "TINTNUM =                    6                                                  \n",
        "SINTNUM =                   10                                                  \n",
        "DISTCOEF= '/home/jsoc/cvs/Development/JSOC/proj/lev1.5_hmi/apps/../libs/lev15/' \n",
        "ROTCOEF = '/home/jsoc/cvs/Development/JSOC/proj/lev1.5_hmi/apps/../libs/lev15/' \n",
        "ODICOEFF=                    6                                                  \n",
        "OROCOEFF=                    4                                                  \n",
        "POLCALM =                    1                                                  \n",
        "CODEVER0= '$Id: HMI_observables.c,v 1.27 2011/03/09 18:24:46 couvidat Exp $'    \n",
        "CODEVER1= '$Id: interpol_code.c,v 1.1 2010/09/16 20:46:48 couvidat Exp $'       \n",
        "CODEVER2= '$Id: interpol_code.c,v 1.1 2010/09/16 20:46:48 couvidat Exp $'       \n",
        "CODEVER3= '$Id: polcal.c,v 1.4 2010/09/23 20:57:27 schou Exp $'                 \n",
        "CALVER64=                   16                                                  \n",
        "RECNUM  =              2659755                                                  \n",
        "BLANK   =          -2147483648                                                  \n",
        "BZERO   =                   0.                                                  \n",
        "BSCALE  =              1.00000 /                                                \n",
        "FLARENUM=                    6 /Flare number in the catalogue                   \n",
        "FLAREDAT= '2011/03/09'         /Flare date                                      \n",
        "GOESTRTM= '23:13:00'           /GOES Start Time                                 \n",
        "GOESTRFR=                   89 /The closet frame on datacube to GOES start time \n",
        "GOESEDTM= '23:23:00'           /GOES End time                                   \n",
        "GOESEDFR=                  103 /The closet frame on datacube to GOES end time   \n",
        "GOESPKTM= '23:22:00'           /GOES Peak time                                  \n",
        "GOESPKFR=                  101 /The closet frame on datacube to GOES peak time  \n",
        "GOESCLAS= 'X1.5    '           /GOES Flare Class                                \n",
        "SUBXPOS1=                   75 /AR min X (arcsec)                               \n",
        "SUBXPOS2=                  275 /AR max X (arcsec)                               \n",
        "SUBYPOS1=                  217 /AR min Y (arcsec)                               \n",
        "SUBYPOS2=                  317 /AR max Y (arcsec)                               \n",
        "FLARXCEN=                  196 /Flare X center (arcsec)                         \n",
        "FLARYCEN=                  252 /Flare Y center (arcsec)                         \n",
        "XBIN    =                    1 /X binning with respect to HMI pixels            \n",
        "YBIN    =                    1 /Y binning with respect to HMI pixels            \n",
        "PXPURGE =                    1 /Boolean -> Purge pixels gt 5000 G               \n",
        "O_BSCALE=             0.100000 / Original BSCALE Value                          "
       ]
      }
     ],
     "prompt_number": 23
    },
    {
     "cell_type": "code",
     "collapsed": false,
     "input": [
      "cols = sdo[0].data\n",
      "print shape(cols) "
     ],
     "language": "python",
     "metadata": {},
     "outputs": [
      {
       "output_type": "stream",
       "stream": "stdout",
       "text": [
        "(207, 199, 398)\n"
       ]
      }
     ],
     "prompt_number": 19
    },
    {
     "cell_type": "code",
     "collapsed": false,
     "input": [
      "test = cols[:,1,1]\n",
      "\n",
      "x = linspace(0, 397, 398)\n",
      "y = linspace(0, 198, 199)\n",
      "z = linspace(0, 206, 207)\n",
      "\n",
      "plot(z, test)\n",
      "xlabel(\"coordenada temporal sin unidades\")\n",
      "ylabel(\"Campo Magenitco [Gauss]\")\n",
      "\n"
     ],
     "language": "python",
     "metadata": {},
     "outputs": [
      {
       "metadata": {},
       "output_type": "pyout",
       "prompt_number": 29,
       "text": [
        "<matplotlib.text.Text at 0xb084b5cc>"
       ]
      },
      {
       "metadata": {},
       "output_type": "display_data",
       "png": "[encoded data removed]",
       "text": [
        "<matplotlib.figure.Figure at 0xb08a880c>"
       ]
      }
     ],
     "prompt_number": 29
    },
    {
     "cell_type": "code",
     "collapsed": false,
     "input": [
      "tiempo=np.genfromtxt('times_delta.csv', delimiter=',')\n",
      "for i in range(len(z)):\n",
      "    z[i]=tiempo[i]\n",
      "test2 = cols[:,60,1]\n",
      "plot(z, test)\n",
      "xlabel(\"coordenada temporal sin unidades\")\n",
      "ylabel(\"Campo Magenitco [Gauss]\")"
     ],
     "language": "python",
     "metadata": {},
     "outputs": [
      {
       "metadata": {},
       "output_type": "pyout",
       "prompt_number": 56,
       "text": [
        "<matplotlib.text.Text at 0xb06e09cc>"
       ]
      },
      {
       "metadata": {},
       "output_type": "display_data",
       "png": "[encoded data removed]",
       "text": [
        "<matplotlib.figure.Figure at 0xb0a2194c>"
       ]
      }
     ],
     "prompt_number": 56
    },
    {
     "cell_type": "code",
     "collapsed": false,
     "input": [],
     "language": "python",
     "metadata": {},
     "outputs": []
    }
   ],
   "metadata": {}
  }
 ]
}