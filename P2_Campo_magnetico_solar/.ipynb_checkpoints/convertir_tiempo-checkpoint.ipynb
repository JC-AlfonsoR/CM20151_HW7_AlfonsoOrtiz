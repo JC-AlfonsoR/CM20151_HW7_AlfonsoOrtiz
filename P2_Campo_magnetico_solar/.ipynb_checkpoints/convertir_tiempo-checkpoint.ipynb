{
 "cells": [
  {
   "cell_type": "code",
   "execution_count": 189,
   "metadata": {
    "collapsed": false
   },
   "outputs": [
    {
     "name": "stdout",
     "output_type": "stream",
     "text": [
      "Populating the interactive namespace from numpy and matplotlib\n"
     ]
    }
   ],
   "source": [
    "%pylab inline\n",
    "import pandas as pd\n",
    "from datetime import timedelta"
   ]
  },
  {
   "cell_type": "code",
   "execution_count": 190,
   "metadata": {
    "collapsed": false
   },
   "outputs": [
    {
     "name": "stdout",
     "output_type": "stream",
     "text": [
      "0,\"2011.03.09_19:22:26_TAI\"\r\n",
      "1,\"2011.03.09_19:32:11_TAI\"\r\n",
      "2,\"2011.03.09_19:32:56_TAI\"\r\n",
      "3,\"2011.03.09_19:42:41_TAI\"\r\n",
      "4,\"2011.03.09_19:52:26_TAI\"\r\n",
      "5,\"2011.03.09_20:02:11_TAI\"\r\n",
      "6,\"2011.03.09_20:02:56_TAI\"\r\n",
      "7,\"2011.03.09_20:12:41_TAI\"\r\n",
      "8,\"2011.03.09_20:22:26_TAI\"\r\n",
      "9,\"2011.03.09_20:32:11_TAI\"\r\n"
     ]
    }
   ],
   "source": [
    "!head times.csv"
   ]
  },
  {
   "cell_type": "code",
   "execution_count": 191,
   "metadata": {
    "collapsed": false
   },
   "outputs": [
    {
     "name": "stdout",
     "output_type": "stream",
     "text": [
      "<class 'pandas.tslib.Timestamp'> 2011-03-09 19:22:26\n"
     ]
    }
   ],
   "source": [
    "tt = pd.to_datetime('2011.03.09 19:22:26')\n",
    "print(type(tt),tt)"
   ]
  },
  {
   "cell_type": "code",
   "execution_count": 192,
   "metadata": {
    "collapsed": false
   },
   "outputs": [],
   "source": [
    "r_time = genfromtxt('times.csv',delimiter='\"',dtype=None)\n",
    "T = []\n",
    "for r in r_time:\n",
    "    sr_t = str(r[1])\n",
    "    s_t = sr_t.split(sep='_')\n",
    "    tt = s_t[0][2:] + ' ' + s_t[1]\n",
    "    t = pd.to_datetime(tt)\n",
    "    T.append(t) # Guardar objetos de fecha"
   ]
  },
  {
   "cell_type": "code",
   "execution_count": 197,
   "metadata": {
    "collapsed": false
   },
   "outputs": [],
   "source": [
    "t = pd.Series(T)\n",
    "t0 = t[0]\n",
    "dt = (t-t0)\n",
    "dt_s = []\n",
    "for ddt in dt:\n",
    "    dt_s.append(ddt.total_seconds())"
   ]
  },
  {
   "cell_type": "code",
   "execution_count": 199,
   "metadata": {
    "collapsed": false
   },
   "outputs": [],
   "source": [
    "Dt = array(dt_s)\n",
    "savetxt('times_delta.csv',Dt,delimiter=',')"
   ]
  },
  {
   "cell_type": "markdown",
   "metadata": {},
   "source": [
    "En este cuaderno tomamos los datos de tiempo como strings, limpiamos los strings y calculamos los deltas de tiempo en segundos. \n",
    "\n",
    "Los deltas de tiempo quedan guardados en _**times_delta.csv**_"
   ]
  },
  {
   "cell_type": "code",
   "execution_count": 203,
   "metadata": {
    "collapsed": false
   },
   "outputs": [
    {
     "name": "stdout",
     "output_type": "stream",
     "text": [
      "[    0.   585.   630.  1215.  1800.]\n",
      "0.000000000000000000e+00\r\n",
      "5.850000000000000000e+02\r\n",
      "6.300000000000000000e+02\r\n",
      "1.215000000000000000e+03\r\n",
      "1.800000000000000000e+03\r\n"
     ]
    }
   ],
   "source": [
    "print(Dt[0:5])\n",
    "!head -5 times_delta.csv"
   ]
  },
  {
   "cell_type": "markdown",
   "metadata": {},
   "source": [
    "##Otros Intentos"
   ]
  },
  {
   "cell_type": "code",
   "execution_count": 151,
   "metadata": {
    "collapsed": false
   },
   "outputs": [
    {
     "name": "stdout",
     "output_type": "stream",
     "text": [
      "2011-03-09 19:22:26 \n",
      " 2011-03-09 19:32:11 \n",
      " 0 days 00:09:45\n"
     ]
    }
   ],
   "source": [
    "t1 = t[0]\n",
    "t2 = t[1]\n",
    "dt = (t2-t1)\n",
    "print(t1,'\\n',t2,'\\n',dt)"
   ]
  },
  {
   "cell_type": "code",
   "execution_count": 154,
   "metadata": {
    "collapsed": false
   },
   "outputs": [
    {
     "name": "stdout",
     "output_type": "stream",
     "text": [
      "0 days 00:09:45\n",
      "585.0\n"
     ]
    }
   ],
   "source": [
    "print(dt)\n",
    "print(dt.total_seconds())"
   ]
  }
 ],
 "metadata": {
  "kernelspec": {
   "display_name": "Python 3",
   "language": "python",
   "name": "python3"
  },
  "language_info": {
   "codemirror_mode": {
    "name": "ipython",
    "version": 3
   },
   "file_extension": ".py",
   "mimetype": "text/x-python",
   "name": "python",
   "nbconvert_exporter": "python",
   "pygments_lexer": "ipython3",
   "version": "3.4.3"
  }
 },
 "nbformat": 4,
 "nbformat_minor": 0
}
