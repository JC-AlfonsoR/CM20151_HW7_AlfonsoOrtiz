{
 "metadata": {
  "name": "",
  "signature": "sha256:6a1c6c3a6e2b63946eb597ddc81f1cf439c424a5ca21759263f704d2a21acf37"
 },
 "nbformat": 3,
 "nbformat_minor": 0,
 "worksheets": [
  {
   "cells": [
    {
     "cell_type": "code",
     "collapsed": false,
     "input": [
      "%pylab inline"
     ],
     "language": "python",
     "metadata": {},
     "outputs": [
      {
       "output_type": "stream",
       "stream": "stdout",
       "text": [
        "Populating the interactive namespace from numpy and matplotlib\n"
       ]
      }
     ],
     "prompt_number": 3
    },
    {
     "cell_type": "code",
     "collapsed": false,
     "input": [
      "seed ( [2] )"
     ],
     "language": "python",
     "metadata": {},
     "outputs": [],
     "prompt_number": 4
    },
    {
     "cell_type": "code",
     "collapsed": false,
     "input": [
      "help(random.randint)"
     ],
     "language": "python",
     "metadata": {},
     "outputs": [
      {
       "output_type": "stream",
       "stream": "stdout",
       "text": [
        "Help on built-in function randint:\n",
        "\n",
        "randint(...)\n",
        "    randint(low, high=None, size=None)\n",
        "    \n",
        "    Return random integers from `low` (inclusive) to `high` (exclusive).\n",
        "    \n",
        "    Return random integers from the \"discrete uniform\" distribution in the\n",
        "    \"half-open\" interval [`low`, `high`). If `high` is None (the default),\n",
        "    then results are from [0, `low`).\n",
        "    \n",
        "    Parameters\n",
        "    ----------\n",
        "    low : int\n",
        "        Lowest (signed) integer to be drawn from the distribution (unless\n",
        "        ``high=None``, in which case this parameter is the *highest* such\n",
        "        integer).\n",
        "    high : int, optional\n",
        "        If provided, one above the largest (signed) integer to be drawn\n",
        "        from the distribution (see above for behavior if ``high=None``).\n",
        "    size : int or tuple of ints, optional\n",
        "        Output shape. Default is None, in which case a single int is\n",
        "        returned.\n",
        "    \n",
        "    Returns\n",
        "    -------\n",
        "    out : int or ndarray of ints\n",
        "        `size`-shaped array of random integers from the appropriate\n",
        "        distribution, or a single such random int if `size` not provided.\n",
        "    \n",
        "    See Also\n",
        "    --------\n",
        "    random.random_integers : similar to `randint`, only for the closed\n",
        "        interval [`low`, `high`], and 1 is the lowest value if `high` is\n",
        "        omitted. In particular, this other one is the one to use to generate\n",
        "        uniformly distributed discrete non-integers.\n",
        "    \n",
        "    Examples\n",
        "    --------\n",
        "    >>> np.random.randint(2, size=10)\n",
        "    array([1, 0, 0, 0, 1, 1, 0, 0, 1, 0])\n",
        "    >>> np.random.randint(1, size=10)\n",
        "    array([0, 0, 0, 0, 0, 0, 0, 0, 0, 0])\n",
        "    \n",
        "    Generate a 2 x 4 array of ints between 0 and 4, inclusive:\n",
        "    \n",
        "    >>> np.random.randint(5, size=(2, 4))\n",
        "    array([[4, 0, 2, 1],\n",
        "           [3, 2, 2, 0]])\n",
        "\n"
       ]
      }
     ],
     "prompt_number": 10
    },
    {
     "cell_type": "code",
     "collapsed": false,
     "input": [
      "titulo = 'Ajuste Lineal'\n",
      "info = \"x,y son las coordenas del pixel analizado en el archivo 'hmi.m_45s.magnetogram.subregion_x1y1.fits'. best_b y best_a son los parametros de maximo likelihood para el modelo lineal\"\n",
      "heading = 'x,y,best_likelihood,best_a,best_b'"
     ],
     "language": "python",
     "metadata": {},
     "outputs": [],
     "prompt_number": 29
    },
    {
     "cell_type": "code",
     "collapsed": false,
     "input": [
      "!ls GitHub/CM20151_HW7_AlfonsoOrtiz/P2_Campo_magnetico_solar"
     ],
     "language": "python",
     "metadata": {},
     "outputs": [
      {
       "output_type": "stream",
       "stream": "stdout",
       "text": [
        "convertir_fecha.r\t\t  Funcion_ajuste_lineal_paso.ipynb\t     times_delta.csv\r\n",
        "convertir_tiempo.ipynb\t\t  hmi.m_45s.magnetogram.subregion_x1y1.fits  Untitled0.ipynb\r\n",
        "emcee_mcr.ipynb\t\t\t  Leer_fits.ipynb\t\t\t     Untitled0.v3.ipynb\r\n",
        "Funcion_ajuste_linealGauss.ipynb  reading_fits.ipynb\t\t\t     Untitled1.ipynb\r\n",
        "Funci\u00f3n_ajuste_lineal.ipynb\t  times.csv\r\n"
       ]
      }
     ],
     "prompt_number": 30
    },
    {
     "cell_type": "code",
     "collapsed": false,
     "input": [
      "!ls"
     ],
     "language": "python",
     "metadata": {},
     "outputs": [
      {
       "output_type": "stream",
       "stream": "stdout",
       "text": [
        "Carpentry  GitHub  MATLAB  Subl  Untitled0.ipynb\r\n"
       ]
      }
     ],
     "prompt_number": 72
    },
    {
     "cell_type": "code",
     "collapsed": false,
     "input": [
      "titulo = 'Ajuste Lineal'\n",
      "info = \"x,y son las coordenas del pixel analizado en el archivo 'hmi.m_45s.magnetogram.subregion_x1y1.fits'. best_b y best_a son los parametros de maximo likelihood para el modelo lineal\"\n",
      "heading = 'x,y,best_likelihood,best_a,best_b'\n",
      "f = open('Modelo_lineal.csv','w')\n",
      "f.write(titulo+'\\n')\n",
      "f.write(info+'\\n')\n",
      "f.write(heading+'\\n')\n",
      "\n",
      "n = 10\n",
      "\n",
      "x = random.random(size=n)\n",
      "y = random.random(size=n)\n",
      "best_a = random.random(size=n)\n",
      "best_b = random.random(size=n)\n",
      "best_like = random.random(size=n)*200-100\n",
      "\n",
      "for i in range(n):\n",
      "    f.write(str(x[i]) + ',' + str(y[i]) + ',' + '%.7f'%best_like[i] + ',' + '%.7f'%best_a[i] + ',' + '%.7f'%best_b[i] + '\\n')\n",
      "f.close()"
     ],
     "language": "python",
     "metadata": {},
     "outputs": [],
     "prompt_number": 91
    },
    {
     "cell_type": "code",
     "collapsed": false,
     "input": [
      "!head Modelo_lineal.csv"
     ],
     "language": "python",
     "metadata": {},
     "outputs": [
      {
       "output_type": "stream",
       "stream": "stdout",
       "text": [
        "Ajuste Lineal\r\n",
        "x,y son las coordenas del pixel analizado en el archivo 'hmi.m_45s.magnetogram.subregion_x1y1.fits'. best_b y best_a son los parametros de maximo likelihood para el modelo lineal\r\n",
        "x,y,best_likelihood,best_a,best_b\r\n",
        "0.0995543888786,0.400260119203,83.5288642,0.8693102,0.9577123\r\n",
        "0.237841877855,0.823519116263,76.6388502,0.9355709,0.3540035\r\n",
        "0.189546203258,0.342253247505,52.3121873,0.7535343,0.4766340\r\n",
        "0.67847065513,0.878581313193,-12.7144202,0.9790692,0.8935651\r\n",
        "0.37378832836,0.925925922357,8.5372810,0.2916060,0.1864501\r\n",
        "0.356097915323,0.502606321729,-52.6460501,0.6224862,0.9606695\r\n",
        "0.795097635205,0.689983306319,66.7059386,0.6706579,0.1270557\r\n"
       ]
      }
     ],
     "prompt_number": 92
    },
    {
     "cell_type": "code",
     "collapsed": false,
     "input": [
      "!rm Modelo_lineal.csv"
     ],
     "language": "python",
     "metadata": {},
     "outputs": [],
     "prompt_number": 68
    },
    {
     "cell_type": "code",
     "collapsed": false,
     "input": [
      "best_a = random.random(size=n)\n",
      "print('hola %.7f'%best_a[0])"
     ],
     "language": "python",
     "metadata": {},
     "outputs": [
      {
       "output_type": "stream",
       "stream": "stdout",
       "text": [
        "hola 0.8133544\n"
       ]
      }
     ],
     "prompt_number": 48
    },
    {
     "cell_type": "code",
     "collapsed": false,
     "input": [
      "x = random.randint(size=n)\n",
      "print(x)"
     ],
     "language": "python",
     "metadata": {},
     "outputs": [],
     "prompt_number": 86
    },
    {
     "cell_type": "code",
     "collapsed": false,
     "input": [],
     "language": "python",
     "metadata": {},
     "outputs": []
    }
   ],
   "metadata": {}
  }
 ]
}