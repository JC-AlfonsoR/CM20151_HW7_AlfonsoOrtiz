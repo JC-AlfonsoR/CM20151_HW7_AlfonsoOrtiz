{
 "metadata": {
  "name": "",
  "signature": "sha256:870fec4e8cc7cf75342404bc5f4b4bedde1d988efd993b576074ded537639e8d"
 },
 "nbformat": 3,
 "nbformat_minor": 0,
 "worksheets": [
  {
   "cells": [
    {
     "cell_type": "code",
     "collapsed": false,
     "input": [
      "import emcee\n",
      "import pyfits\n",
      "%pylab inline\n",
      "\n",
      "datos = pyfits.open('hmi.m_45s.magnetogram.subregion_x1y1.fits')\n",
      "cols = datos[0].data\n",
      "x = linspace(0, 397, 398)\n",
      "y = linspace(0, 198, 199)\n",
      "z = linspace(0, 206, 207)\n",
      "x_data=np.genfromtxt('times_delta.csv', delimiter=',')\n",
      "y_data = cols[:,3,6]\n",
      "#arreglo para el tiempo\n"
     ],
     "language": "python",
     "metadata": {},
     "outputs": [
      {
       "output_type": "stream",
       "stream": "stdout",
       "text": [
        "Populating the interactive namespace from numpy and matplotlib\n"
       ]
      }
     ],
     "prompt_number": 2
    },
    {
     "cell_type": "code",
     "collapsed": false,
     "input": [
      "def model(a_walk, b_walk, x_d, y_d): #dejar x y y?\n",
      "    y_m = x_d*b_walk + a_walk\n",
      "    return y_m"
     ],
     "language": "python",
     "metadata": {},
     "outputs": [],
     "prompt_number": 3
    },
    {
     "cell_type": "code",
     "collapsed": false,
     "input": [
      "#emcee functions\n",
      "def lnprior(param):\n",
      "    a_walk, b_walk= param\n",
      "    if -200.0 < a_walk < 200.0 and -1 < b_walk < 1:\n",
      "        return 0.0\n",
      "    return -inf"
     ],
     "language": "python",
     "metadata": {},
     "outputs": [],
     "prompt_number": 4
    },
    {
     "cell_type": "code",
     "collapsed": false,
     "input": [
      "def lnlike(param, x_d, y_d):\n",
      "    a_walk, b_walk= param\n",
      "    y_m = model(a_walk, b_walk, x_d, y_d)\n",
      "    chi_cuadrado= (1.0/2.0)*sum((y_d-y_m)**2) #campo_m =y_d\n",
      "    return -chi_cuadrado\n"
     ],
     "language": "python",
     "metadata": {},
     "outputs": [],
     "prompt_number": 5
    },
    {
     "cell_type": "code",
     "collapsed": false,
     "input": [
      "def lnprob(param, x_d, y_d):\n",
      "    lp = lnprior(param)\n",
      "    if not isfinite(lp):\n",
      "        return -inf\n",
      "    return lp + lnlike(param, x_d, y_d)"
     ],
     "language": "python",
     "metadata": {},
     "outputs": [],
     "prompt_number": 6
    },
    {
     "cell_type": "code",
     "collapsed": false,
     "input": [
      "a_walk0 = np.random.random()*400 -200\n",
      "b_walk0 = np.random.random()*2 -1\n",
      "\n",
      "model(a_walk0,b_walk0,x_data, y_data)\n",
      "#print y_0\n",
      "\n",
      "import scipy.optimize as op\n",
      "nll = lambda *args: -lnlike(*args)\n",
      "result = op.minimize(nll, [a_walk0, b_walk0], args=(x_data, y_data))\n",
      "a_ml, b_ml = result[\"x\"]\n"
     ],
     "language": "python",
     "metadata": {},
     "outputs": [],
     "prompt_number": 7
    },
    {
     "cell_type": "code",
     "collapsed": false,
     "input": [
      "#first_guess = [a_walk0, b_walk0]\n",
      "#print first_guess\n",
      "#print a_ml\n",
      "#print b_ml\n",
      "#print model(a_ml, b_ml, x_data, y_data)"
     ],
     "language": "python",
     "metadata": {},
     "outputs": [],
     "prompt_number": 8
    },
    {
     "cell_type": "code",
     "collapsed": false,
     "input": [
      "#Running emcee\n",
      "ndim = 2 #numero de walkers\n",
      "nwalkers = 4\n",
      "nsteps = 2000\n",
      "pos0 = [result[\"x\"] + 1e-4*np.random.randn(ndim) for i in range(nwalkers)]\n",
      "sampler = emcee.EnsembleSampler(nwalkers, ndim, lnprob, args=(x_data, y_data), threads=1)\n",
      "sampler.run_mcmc(pos0, nsteps, rstate0=random.get_state())\n"
     ],
     "language": "python",
     "metadata": {},
     "outputs": [
      {
       "metadata": {},
       "output_type": "pyout",
       "prompt_number": 9,
       "text": [
        "(array([[ 31.21914924,   0.12039418],\n",
        "        [ 31.06390289,   0.12133795],\n",
        "        [ 30.94151727,   0.12102781],\n",
        "        [ 31.03644052,   0.12093379]]),\n",
        " array([-15342.63326541, -15343.38223554, -15343.69662258, -15342.58382835]),\n",
        " ('MT19937', array([3605024029,  340290255,  623200452, 3681661789, 1399674057,\n",
        "         4035136668, 1358251424, 3225836817,  256348609, 3260691585,\n",
        "          898502917, 1458483227, 2541753204, 3850013029, 1114574557,\n",
        "         1769465823,  900080209, 3002213500, 3151040164,  185297278,\n",
        "         4057370634, 2979467281, 2450995672, 1250153731, 1853811838,\n",
        "          246131233, 2577931676, 1694254539, 3532992883,   98106023,\n",
        "         3092022106, 1785953773, 3482536454, 2973917204, 3913741524,\n",
        "         3639649746, 1438458534, 1252443124, 2253684125, 1594623769,\n",
        "         3648589804, 1278890818, 2172541539, 2704278603,    1208987,\n",
        "         2155221635, 2823447827, 3983512065, 1618614701, 3381226107,\n",
        "         1356844022, 4194363648, 3788324972,  664448927, 2071374892,\n",
        "         1369307312, 2421631346, 3110777893, 3068361673, 1734924324,\n",
        "          149323746, 2989069516, 3080754005, 3220605958,  466674869,\n",
        "         1282982610, 1015014890, 4105489279,  242252835, 3695283983,\n",
        "         1395340487,  214127516, 1830102379, 3852505301,  218329274,\n",
        "         3626469952, 2003099889,   80802606, 1913593699, 1209172762,\n",
        "         2553987520,  933049578, 3381825562, 2866804317, 3338981293,\n",
        "          646584103, 1796817753, 2235656221,  688741721, 3079583902,\n",
        "         1228325933, 1642360337, 1861589979, 2629266010, 4149883224,\n",
        "         1971379855, 2696254819, 1415492572, 1198206277, 1847356105,\n",
        "         1658045657, 3730569748, 2781247995, 2864874599, 3984860240,\n",
        "         1853613640, 1400262790, 2846717953, 2887762416,   54743106,\n",
        "          210088023, 1644116981, 1487692598,  118937877, 1126615054,\n",
        "         3007457921, 3614241905,  141943151, 2722585757, 1327055556,\n",
        "         2011209860, 3316528351, 4074015544,  592071571,  385601865,\n",
        "          749697919,   57702161,  981125980,  688288840, 2385772718,\n",
        "         3482489581, 3990021901, 3042058785, 3908656525, 1614999731,\n",
        "         2000988926, 3540367247, 1977093807,   25065168, 3234263072,\n",
        "         2740577982,  215019987, 2459553493, 3396366973, 3993652110,\n",
        "         3219442027, 3899304944, 3549780225,   88832655,  791650627,\n",
        "         2181141287, 1154033918, 2410037111, 1097902409, 2422333940,\n",
        "         3820987761, 4246778942, 1633579796, 4152256911, 3794250251,\n",
        "         3168898593, 1355670257, 1716149661, 3712912922, 3745160448,\n",
        "         4105045218,  992496841, 3162053814, 2106940006,  352338647,\n",
        "          920094625, 3926565316, 3219872637, 1409685931,   72902211,\n",
        "           49225472, 2476653813, 2387811122, 1180596755,  766161923,\n",
        "         1109366356, 4123326722, 3221687426, 2464088658, 3782235797,\n",
        "         3759839360,  281010521, 2514626262, 2809155483,  793429048,\n",
        "           78938773,  556083010, 3473821370, 2333910489, 4017944607,\n",
        "         2705839112, 3094369198, 3284437127, 1878011232, 2517786803,\n",
        "         3175471857, 2832875284, 2516766543, 2524402175, 2580959150,\n",
        "         2924614347, 2773001108, 1559058143,  871420070, 3075017481,\n",
        "         1476810093,  389850110, 1117525029, 2312443106, 1581095514,\n",
        "         3138163726, 3900741225, 2033212511, 2474727988,  544419932,\n",
        "         3131648952,  734559906, 1743318216,   44904082, 2308056071,\n",
        "         2882040233, 1949647258, 4128934958, 2572998075, 4226243810,\n",
        "         1869084495, 1014910930, 3667714555, 2688701880,   46795338,\n",
        "          234974451, 2553328344, 1039524110, 3197693224, 1708691039,\n",
        "         3832748835, 2071173594, 1710709533,  728936208, 3279632352,\n",
        "         1669265021, 2187913073, 1880819152, 2592932239, 1513587292,\n",
        "         3311823781, 3782667181, 3603233589, 1851894472,  532315195,\n",
        "         3260489511,  593789998, 1425568780, 3499847544, 2251289169,\n",
        "         1825986587, 3399872852,  160234229, 1664668690, 2861565584,\n",
        "         3460513940, 2941826088, 3121794716,  101154752, 1552875564,\n",
        "         2711248369, 3100149797, 2714078431, 3503728672, 1128052733,\n",
        "          652791405, 3273003842, 3049322999, 3683560658, 3528250138,\n",
        "         2805531572,   76302277, 1922422374, 1952485693,  463618162,\n",
        "         1803829465,  229161381, 1777968099, 2333170861, 2398350704,\n",
        "         2715446749, 3378825131, 3123784144, 1933043408,  651962341,\n",
        "         1755274277, 3165220930, 3449437933, 2068691689, 3118613006,\n",
        "         1332077688, 1438232835, 2415648965, 3955972157, 1404412329,\n",
        "          292434446, 3305715038, 1406094839, 2347019108,  236325574,\n",
        "         1978087182, 4040223550, 3419139291,  179629543,  171404693,\n",
        "         2098681195, 2513090833,  338756190, 2370285336,  834839069,\n",
        "         4199276142, 3319544774, 1619484799, 1703307090, 1722454263,\n",
        "         3382914868,  773179483, 1127502873,  998305991,  150643561,\n",
        "          679837801,  993981673,  252952292, 4252376642, 4152472309,\n",
        "         1614283740,  758276954, 3114773220, 2253517555, 3482534810,\n",
        "         1405410937,  225079711,  559099014, 2272988342,  142029155,\n",
        "          865728807,  848847538, 2451660033,  124677473, 1669551547,\n",
        "         1775952788, 3282114769, 3000916139, 2147099157, 2767978916,\n",
        "          923210804,  629516553, 3180891900,  218567189,  142075365,\n",
        "         4283416316, 3036372075,  681730605, 3697983088, 3725001999,\n",
        "         3567713099, 1988637289,  129113871, 1511147384,  926091967,\n",
        "         3351490910,  576895420,   86335030, 1233060921, 2167071506,\n",
        "         2272417784, 3334635694, 2828868364, 1651505559,  594013179,\n",
        "         3191543275,  323080081, 1462022402, 2633656126, 2724237574,\n",
        "         2126601016, 2833571836, 3348459591, 1396470133,  664512885,\n",
        "          690055134, 1463884544,  253024584,  812664395, 3451474991,\n",
        "           67677604, 1943451560, 3219939988,  674881617, 1298957003,\n",
        "         1158665076, 2951608749, 1960766330,  589285168, 2753808725,\n",
        "           26725393, 2291126324,  793212140, 2379869506, 3451863875,\n",
        "         1754383967,  960199003, 2770999946, 3029793126, 1295620845,\n",
        "         3747270539, 1167979792,  195689320, 4086955278,  642427302,\n",
        "         3055942579,  407042017, 3227332778,  915524578, 4027619734,\n",
        "         1430728633, 3059308567,  407282709,  633048796,  815830064,\n",
        "         2642979867,  241007649,  182640962, 3290914614, 3578083599,\n",
        "         1925788171,  242078749, 2889488510, 3296492189, 1527944364,\n",
        "         3561610489,  219331560, 2400251222, 4024535628, 2729753300,\n",
        "         2696898417, 2439369798,  868756104,  559756394, 2169740890,\n",
        "         1059440399, 1377300133, 3691394007,  378514931, 2033189260,\n",
        "          106681125, 4268227387,  912036197, 3227399844, 1634090270,\n",
        "         3223345614, 3261555124,   71510732, 3291228352, 3081015280,\n",
        "         1023567672,  809758444, 1347275110,  783285893,  555511275,\n",
        "         1149546998, 2100634551, 2929850701, 3598221138, 4279057217,\n",
        "         1305657993,  229161852, 1718903368, 1472419426, 2069607967,\n",
        "          548370466, 2896533730, 3415064056, 1699024256, 1884454858,\n",
        "         1407411764,  738899234, 1580436556, 1862779130, 1468644463,\n",
        "          897680388,  305026236,  494245847, 1187749336,  739973669,\n",
        "         2852355406,  569143293, 3649891922,  189165880, 2320578628,\n",
        "         3148887218,  265958753, 3505904269, 4030461919, 3034656025,\n",
        "         2652095880, 3629215935, 3613024820, 1135703148,  849695311,\n",
        "          584866391, 3299986474, 3251593678, 1568409509, 2985963695,\n",
        "         3902196271, 3106437948,  230231099, 2279150216, 2849687824,\n",
        "         1870944593, 3194352289,   45130386,  865254659,  989403675,\n",
        "         1525623574, 2419927379, 3631089852,  551682706, 3692779224,\n",
        "          883980612, 2341126463, 2197151790,  667429646, 1232910353,\n",
        "         1584597021, 1105723843,  567374961, 2990688085, 2616410264,\n",
        "          130014575, 2468326986,  537780730, 2340460418,  821717727,\n",
        "         1362867467,  910262465,  393334172, 2501795257, 4050259600,\n",
        "         4165822322,    6207633, 3650677243, 1876963626, 1644179265,\n",
        "          245344314, 3496515618,  967495383, 2448534147, 1076953130,\n",
        "         2319214611, 3070158303, 1235705659,  183292070, 3528479400,\n",
        "         4214417786, 4210904392, 2204594761, 2484538586, 3613175775,\n",
        "         2908441467, 1134179664, 1415180345, 2087073223,  189281613,\n",
        "          579135162, 1297984531, 2741020351,  788681238,  869110185,\n",
        "         2777335545,  791864996,  449914024, 3790994575,  159130188,\n",
        "          977172821,  404733877, 2406953197,  206939094, 3769341124,\n",
        "         3573258352, 3949862924, 2869788979, 3862101363, 2778411390,\n",
        "         1096810411, 3025900096, 4236724514,  237331896, 1427200894,\n",
        "          485644467,  350147695, 2590877256, 4267205486, 2569832044,\n",
        "         3700558987, 3778411133, 2304951116, 1640909647, 2241373743,\n",
        "          792038529, 1044330752, 3981823856, 3001797551, 3134806147,\n",
        "         2153438429, 3205284838, 2292105799, 2525390806, 1559412872,\n",
        "         2158003104, 1042326249,  726251193, 3249414649], dtype=uint32), 88, 0, 0.0))"
       ]
      }
     ],
     "prompt_number": 9
    },
    {
     "cell_type": "code",
     "collapsed": false,
     "input": [
      "print shape(sampler)\n",
      "samples = sampler.chain[:, 207:, :].reshape((-1, ndim))\n",
      "#samples = sampler.flatchain\n",
      "print samples\n",
      "#print shape(samples)\n",
      "import triangle\n",
      "fig = triangle.corner(samples, labels=[\"$a$\", \"$b$\"],\n",
      "                      truths=[a_walk0, b_walk0])\n",
      "fig.savefig(\"triangle.png\")\n",
      "\n"
     ],
     "language": "python",
     "metadata": {},
     "outputs": [
      {
       "output_type": "stream",
       "stream": "stdout",
       "text": [
        "()\n",
        "[[ 31.4455959    0.11948751]\n",
        " [ 31.4455959    0.11948751]\n",
        " [ 31.54602981   0.11899663]\n",
        " ..., \n",
        " [ 31.04967152   0.12107015]\n",
        " [ 31.03644052   0.12093379]\n",
        " [ 31.03644052   0.12093379]]\n"
       ]
      },
      {
       "metadata": {},
       "output_type": "display_data",
       "png": "[encoded data removed]",
       "text": [
        "<matplotlib.figure.Figure at 0xac56a7ac>"
       ]
      }
     ],
     "prompt_number": 10
    },
    {
     "cell_type": "code",
     "collapsed": false,
     "input": [
      "try:\n",
      "    import matplotlib.pyplot as pl\n",
      "except ImportError:\n",
      "        print(\"Try installing matplotlib to generate some sweet plots...\")\n",
      "else:\n",
      "    s_fc=samples_fc = sampler.flatchain\n",
      "    pl.hist(s_fc[:,0], 207)\n",
      "    pl.show()"
     ],
     "language": "python",
     "metadata": {},
     "outputs": [
      {
       "metadata": {},
       "output_type": "display_data",
       "png": "[encoded data removed]",
       "text": [
        "<matplotlib.figure.Figure at 0xaf3ed72c>"
       ]
      }
     ],
     "prompt_number": 11
    },
    {
     "cell_type": "code",
     "collapsed": false,
     "input": [
      "savetxt('sampler_flatchain.dat', s_fc, delimiter=',')\n",
      "print(\"Mean acceptance fraction: {0:.3f}\".format(mean(sampler.acceptance_fraction)))"
     ],
     "language": "python",
     "metadata": {},
     "outputs": [
      {
       "output_type": "stream",
       "stream": "stdout",
       "text": [
        "Mean acceptance fraction: 0.719\n"
       ]
      }
     ],
     "prompt_number": 93
    },
    {
     "cell_type": "code",
     "collapsed": false,
     "input": [],
     "language": "python",
     "metadata": {},
     "outputs": []
    },
    {
     "cell_type": "code",
     "collapsed": false,
     "input": [
      "#Running emcee\n",
      "ndim = 2 #numero de walkers\n",
      "nwalkers = 4\n",
      "nsteps = 2000\n",
      "\n",
      "#pos0 = [first_guess+ random.randn(ndim) for i in range(nwalkers)]\n",
      "\n",
      "#pos0 = [np.random.rand(ndim) for i in xrange(nwalkers)]\n",
      "sampler = emcee.EnsembleSampler(nwalkers, ndim, lnprob, args=(x_data, y_data), threads=1)\n",
      "\n",
      "arr = sampler.run_mcmc(pos0, nsteps, rstate0=random.get_state())\n",
      "# Run 100 steps as a burn-in.\n",
      "#pos, prob, state = sampler.run_mcmc(p0, 100)\n",
      "\n",
      "print(\"Done!\")\n",
      "#print len(a)\n",
      "#print len(b)\n",
      "#print len(c)\n",
      "print shape(arr)\n"
     ],
     "language": "python",
     "metadata": {},
     "outputs": [
      {
       "output_type": "stream",
       "stream": "stdout",
       "text": [
        "Done!\n",
        "(3,)\n"
       ]
      }
     ],
     "prompt_number": 39
    },
    {
     "cell_type": "code",
     "collapsed": false,
     "input": [
      "samples = sampler.chain[:, 207:, :].reshape((-1, ndim))\n",
      "#samples = sampler.flatchain\n",
      "print samples\n",
      "print shape(samples)\n"
     ],
     "language": "python",
     "metadata": {},
     "outputs": [
      {
       "output_type": "stream",
       "stream": "stdout",
       "text": [
        "[[ -5.40809473   0.23093207]\n",
        " [ -5.40809473   0.23093207]\n",
        " [ -5.40809473   0.23093207]\n",
        " ..., \n",
        " [ 10.37016557   0.19347572]\n",
        " [ 10.37016557   0.19347572]\n",
        " [ 10.37016557   0.19347572]]\n",
        "(7172, 2)\n"
       ]
      }
     ],
     "prompt_number": 40
    },
    {
     "cell_type": "code",
     "collapsed": false,
     "input": [
      "import triangle\n",
      "fig = triangle.corner(samples, labels=[\"$a$\", \"$b$\"],\n",
      "                      truths=[a_walk0, b_walk0])\n",
      "fig.savefig(\"triangle.png\")"
     ],
     "language": "python",
     "metadata": {},
     "outputs": [
      {
       "metadata": {},
       "output_type": "display_data",
       "png": "[encoded data removed]",
       "text": [
        "<matplotlib.figure.Figure at 0xb024660c>"
       ]
      }
     ],
     "prompt_number": 41
    },
    {
     "cell_type": "code",
     "collapsed": false,
     "input": [
      "samples = sampler.flatchain\n",
      "print samples\n",
      "print shape(samples)"
     ],
     "language": "python",
     "metadata": {},
     "outputs": [
      {
       "output_type": "stream",
       "stream": "stdout",
       "text": [
        "[[-21.12544307   0.50203387]\n",
        " [-21.12544307   0.50203387]\n",
        " [-21.12544307   0.50203387]\n",
        " ..., \n",
        " [-22.20112473   2.96923236]\n",
        " [-22.20112473   2.96923236]\n",
        " [-22.20112473   2.96923236]]\n",
        "(8000, 2)\n"
       ]
      }
     ],
     "prompt_number": 60
    },
    {
     "cell_type": "code",
     "collapsed": false,
     "input": [
      "import matplotlib.pyplot as pl\n",
      "for a_walk, b_walk in samples[np.random.randint(len(samples), size=207)]:\n",
      "    plot(x_data, b_walk*x_data + a_walk, color=\"k\", alpha=0.1)\n",
      "plot(x_data, b_walk0*x_data +a_walk0, color=\"r\", lw=2, alpha=0.8)\n",
      "#pl.errorbar(x, y, yerr=yerr, fmt=\".k\")"
     ],
     "language": "python",
     "metadata": {},
     "outputs": [
      {
       "metadata": {},
       "output_type": "pyout",
       "prompt_number": 12,
       "text": [
        "[<matplotlib.lines.Line2D at 0xb028fc4c>]"
       ]
      },
      {
       "metadata": {},
       "output_type": "display_data",
       "png": "[encoded data removed]",
       "text": [
        "<matplotlib.figure.Figure at 0xb028fc2c>"
       ]
      }
     ],
     "prompt_number": 12
    },
    {
     "cell_type": "code",
     "collapsed": false,
     "input": [],
     "language": "python",
     "metadata": {},
     "outputs": []
    }
   ],
   "metadata": {}
  }
 ]
}