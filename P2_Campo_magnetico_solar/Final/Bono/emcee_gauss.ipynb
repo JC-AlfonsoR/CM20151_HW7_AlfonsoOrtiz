{
 "metadata": {
  "name": "",
  "signature": "sha256:f14d89b41a7865b1c510b60bccb9017b4b74fac2c2a1b89115b85d31a1ad4c15"
 },
 "nbformat": 3,
 "nbformat_minor": 0,
 "worksheets": [
  {
   "cells": [
    {
     "cell_type": "code",
     "collapsed": false,
     "input": [
      "import emcee\n",
      "import pyfits\n",
      "from pylab import*\n",
      "\n",
      "datos = pyfits.open('hmi.m_45s.magnetogram.subregion_x1y1.fits')\n",
      "cols = datos[0].data\n",
      "x = linspace(0, 397, 398)\n",
      "y = linspace(0, 198, 199)\n",
      "z = linspace(0, 206, 207)\n",
      "x_data=np.genfromtxt('times_delta.csv', delimiter=',')\n",
      "\n"
     ],
     "language": "python",
     "metadata": {},
     "outputs": [],
     "prompt_number": 1
    },
    {
     "cell_type": "code",
     "collapsed": false,
     "input": [
      "#funcion lineal_gauss\n",
      "def model(c_walk, d_walk, sigma_walk, mu_walk, x_d, y_d):\n",
      "    n1 = sigma_walk**2/(sqrt(2*pi))\n",
      "    n2 = 0.5*((x_d-mu_walk)/sigma_walk)**2\n",
      "    y_m = c_walk +d_walk*x_d + n1*exp(-n2)\n",
      "    return y_m"
     ],
     "language": "python",
     "metadata": {},
     "outputs": [],
     "prompt_number": 2
    },
    {
     "cell_type": "code",
     "collapsed": false,
     "input": [
      "#emcee functions\n",
      "def lnprior(param):\n",
      "    c_walk, d_walk, sigma_walk, mu_walk= param\n",
      "    if -200.0 < c_walk < 200.0 and -1 < d_walk < 1 and 34 < sigma_walk < 46 and 94 < mu_walk < 105:\n",
      "        return 0.0\n",
      "    return -inf\n",
      "\n"
     ],
     "language": "python",
     "metadata": {},
     "outputs": [],
     "prompt_number": 3
    },
    {
     "cell_type": "code",
     "collapsed": false,
     "input": [
      "def lnlike(param, x_d, y_d):\n",
      "    c_walk, d_walk, sigma_walk, mu_walk= param\n",
      "    y_m = model(c_walk, d_walk, sigma_walk, mu_walk, x_d, y_d)\n",
      "    chi_cuadrado= (1.0/2.0)*sum((y_d-y_m)**2) #campo_m =y_d\n",
      "    return -chi_cuadrado\n",
      "\n"
     ],
     "language": "python",
     "metadata": {},
     "outputs": [],
     "prompt_number": 4
    },
    {
     "cell_type": "code",
     "collapsed": false,
     "input": [
      "def lnprob(param, x_d, y_d):\n",
      "    lp = lnprior(param)\n",
      "    if not isfinite(lp):\n",
      "        return -inf\n",
      "    return lp + lnlike(param, x_d, y_d)"
     ],
     "language": "python",
     "metadata": {},
     "outputs": [],
     "prompt_number": 5
    },
    {
     "cell_type": "code",
     "collapsed": false,
     "input": [
      "c_walk0 = np.random.random()*400 -200\n",
      "d_walk0 = np.random.random()*2 -1\n",
      "sigma_walk0 = np.random.random()*10 + 35\n",
      "mu_walk0 = np.random.random()*10.0 + 95.0\n",
      "\n"
     ],
     "language": "python",
     "metadata": {},
     "outputs": [],
     "prompt_number": 6
    },
    {
     "cell_type": "code",
     "collapsed": false,
     "input": [
      "#iteracion de los n pixeles\n",
      "titulo = 'Ajuste Lineal Gauss'\n",
      "info = \"x,y son las coordenas del pixel analizado en el archivo 'hmi.m_45s.magnetogram.subregion_x1y1.fits'. best_b y best_a son los parametros de maximo likelihood para el modelo lineal\"\n",
      "heading = 'x,y,c,d,sigma,mu' #modificar cada parametro\n",
      "f = open('Modeloemcee_Gauss.csv','w')\n",
      "f.write(titulo+'\\n')\n",
      "f.write(info+'\\n')\n",
      "f.write(heading+'\\n')\n",
      "\n",
      "#coordenadas del pixel seleccionado\n",
      "\n",
      "#TOCA CAMBIAR A IN RANGE 100\n",
      "\n",
      "x = [2*i+1 for i in range(100)]\n",
      "y = [ i +2 for i in range(100)]\n",
      "\n",
      "\n",
      "#Running emcee\n",
      "ndim = 4 #numero de walkers\n",
      "nwalkers = 8\n",
      "nsteps = 20000\n",
      "\n",
      "n=len(x)\n",
      "\n",
      "def correr_emcee():\n",
      "    for i in range (n):\n",
      "        y_data=cols[:,x[i],y[i]]\n",
      "    \n",
      "        first_guess = [c_walk0, d_walk0, sigma_walk0, mu_walk0]\n",
      "        pos0 = [first_guess+ 1e-3*np.random.randn(ndim) for i in range(nwalkers)]\n",
      "\n",
      "        sampler = emcee.EnsembleSampler(nwalkers, ndim, lnprob, args=(x_data, y_data), threads=1)\n",
      "        sampler.run_mcmc(pos0, nsteps, rstate0=np.random.get_state())\n",
      "        s_fc= sampler.flatchain\n",
      "        \n",
      "        c,bins,info = hist(s_fc[:,0], 207)\n",
      "        id_max = argmax(c)\n",
      "        c_walk = mean([bins[id_max],bins[id_max+1]])\n",
      "        \n",
      "        d,bins,info = hist(s_fc[:,1], 207)\n",
      "        id_max = argmax(d)\n",
      "        d_walk = mean([bins[id_max],bins[id_max+1]])\n",
      "        \n",
      "        sig,bins,info = hist(s_fc[:,2], 207)\n",
      "        id_max = argmax(sig)\n",
      "        sig_walk = mean([bins[id_max],bins[id_max+1]])\n",
      "        \n",
      "        mu,bins,info = hist(s_fc[:,3], 207)\n",
      "        id_max = argmax(mu)\n",
      "        mu_walk = mean([bins[id_max],bins[id_max+1]])\n",
      "        \n",
      "        \n",
      "        aja=model(c_walk,d_walk,sig_walk,mu_walk,x_data, y_data)\n",
      "        plot(x_data,aja)\n",
      "        scatter(x_data,y_data)\n",
      "        show()\n",
      "        \n",
      "        f.write(str(x[i]) + ',' + str(y[i]) + ',' + '%.7f'%c_walk + ',' + '%.7f'%d_walk + ',' + '%.7f'%sig_walk + ',' + '%.7f'%mu_walk + '\\n')\n",
      "    f.close()   \n",
      "    return c_walk, d_walk, sig_walk, mu_walk"
     ],
     "language": "python",
     "metadata": {},
     "outputs": [],
     "prompt_number": 7
    },
    {
     "cell_type": "code",
     "collapsed": false,
     "input": [
      "correr_emcee()"
     ],
     "language": "python",
     "metadata": {},
     "outputs": [
      {
       "metadata": {},
       "output_type": "pyout",
       "prompt_number": 8,
       "text": [
        "(186.42385497875938,\n",
        " -0.29480518955224677,\n",
        " 42.500793855375633,\n",
        " 102.92215876472216)"
       ]
      }
     ],
     "prompt_number": 8
    },
    {
     "cell_type": "code",
     "collapsed": false,
     "input": [
      "savetxt('sampler_flatchainGauss.dat', s_fc, delimiter=',')\n",
      "print(\"Mean acceptance fraction: {0:.3f}\".format(mean(sampler.acceptance_fraction)))"
     ],
     "language": "python",
     "metadata": {},
     "outputs": [
      {
       "output_type": "stream",
       "stream": "stdout",
       "text": [
        "Mean acceptance fraction: 0.000\n"
       ]
      }
     ],
     "prompt_number": 59
    },
    {
     "cell_type": "code",
     "collapsed": false,
     "input": [
      "#samples = sampler.chain[:, 207:, :].reshape((-1, ndim))\n",
      "#samples = sampler.flatchain\n",
      "#print samples\n",
      "#print shape(samples)\n",
      "#import triangle\n",
      "#fig = triangle.corner(samples, labels=[\"$c$\", \"$d$\",\"$sigma$\", \"$mu$\" ],\n",
      "#                      truths=[c_walk0, d_walk0, sigma_walk0, mu_walk0])\n",
      "#fig.savefig(\"triangle_Gauss.png\")\n"
     ],
     "language": "python",
     "metadata": {},
     "outputs": [],
     "prompt_number": 38
    },
    {
     "cell_type": "code",
     "collapsed": false,
     "input": [],
     "language": "python",
     "metadata": {},
     "outputs": []
    }
   ],
   "metadata": {}
  }
 ]
}