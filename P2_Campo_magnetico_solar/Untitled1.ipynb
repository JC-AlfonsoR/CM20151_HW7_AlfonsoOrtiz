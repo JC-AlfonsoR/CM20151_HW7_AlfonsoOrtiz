{
 "metadata": {
  "name": "",
  "signature": "sha256:673d1c9d8b828b297a4168fe00951c516841ada2a8c63237abc1911d4bc14222"
 },
 "nbformat": 3,
 "nbformat_minor": 0,
 "worksheets": []
}