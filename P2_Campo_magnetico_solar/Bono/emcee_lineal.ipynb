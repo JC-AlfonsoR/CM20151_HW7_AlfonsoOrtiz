{
 "metadata": {
  "name": "",
  "signature": "sha256:6e237892047057b83b08ccb50d9f2d2c2cdeaacd7a60ff0a051b63bd5a59966a"
 },
 "nbformat": 3,
 "nbformat_minor": 0,
 "worksheets": [
  {
   "cells": [
    {
     "cell_type": "code",
     "collapsed": false,
     "input": [
      "import emcee\n",
      "import pyfits\n",
      "from pylab import*\n",
      "import scipy.optimize as op\n",
      "\n",
      "datos = pyfits.open('hmi.m_45s.magnetogram.subregion_x1y1.fits')\n",
      "cols = datos[0].data\n",
      "x = linspace(0, 397, 398)\n",
      "y = linspace(0, 198, 199)\n",
      "z = linspace(0, 206, 207)\n",
      "x_data=np.genfromtxt('times_delta.csv', delimiter=',')\n",
      "\n"
     ],
     "language": "python",
     "metadata": {},
     "outputs": [],
     "prompt_number": 5
    },
    {
     "cell_type": "code",
     "collapsed": false,
     "input": [
      "def model(a_walk, b_walk, x_d, y_d): #dejar x y y?\n",
      "    y_m = x_d*b_walk + a_walk\n",
      "    return y_m"
     ],
     "language": "python",
     "metadata": {},
     "outputs": [],
     "prompt_number": 6
    },
    {
     "cell_type": "code",
     "collapsed": false,
     "input": [
      "#emcee functions\n",
      "def lnprior(param):\n",
      "    a_walk, b_walk= param\n",
      "    if -200.0 < a_walk < 200.0 and -1 < b_walk < 1:\n",
      "        return 0.0\n",
      "    return -inf"
     ],
     "language": "python",
     "metadata": {},
     "outputs": [],
     "prompt_number": 7
    },
    {
     "cell_type": "code",
     "collapsed": false,
     "input": [
      "def lnlike(param, x_d, y_d):\n",
      "    a_walk, b_walk= param\n",
      "    y_m = model(a_walk, b_walk, x_d, y_d)\n",
      "    chi_cuadrado= (1.0/2.0)*sum((y_d-y_m)**2) #campo_m =y_d\n",
      "    return -chi_cuadrado\n"
     ],
     "language": "python",
     "metadata": {},
     "outputs": [],
     "prompt_number": 8
    },
    {
     "cell_type": "code",
     "collapsed": false,
     "input": [
      "def lnprob(param, x_d, y_d):\n",
      "    lp = lnprior(param)\n",
      "    if not isfinite(lp):\n",
      "        return -inf\n",
      "    return lp + lnlike(param, x_d, y_d)"
     ],
     "language": "python",
     "metadata": {},
     "outputs": [],
     "prompt_number": 9
    },
    {
     "cell_type": "code",
     "collapsed": false,
     "input": [
      "#iteracion de los n pixeles\n",
      "titulo = 'Ajuste Lineal Gauss'\n",
      "info = \"x,y son las coordenas del pixel analizado en el archivo 'hmi.m_45s.magnetogram.subregion_x1y1.fits' modelo lineal\"\n",
      "heading = 'x,y,a,b' #modificar cada parametro\n",
      "f = open('Modeloemcee_lineal.csv','w')\n",
      "f.write(titulo+'\\n')\n",
      "f.write(info+'\\n')\n",
      "f.write(heading+'\\n')\n",
      "\n",
      "#Running emcee\n",
      "\n",
      "#TOCA CAMBIAR A IN RANGE 100\n",
      "\n",
      "x = [2*i+1 for i in range(100)]\n",
      "y = [ i +2 for i in range(100)]\n",
      "\n",
      "\n",
      "ndim = 2 #numero de walkers\n",
      "nwalkers = 4\n",
      "nsteps = 20000\n",
      "\n",
      "n=len(x)\n",
      "a_walk0 = np.random.random()*400 -200\n",
      "b_walk0 = np.random.random()*2 -1\n",
      "\n",
      "def correr_emcee():\n",
      "    for i in range (n):\n",
      "        \n",
      "        y_data=cols[:,x[i],y[i]]\n",
      "        \n",
      "      \n",
      "        nll = lambda *args: -lnlike(*args)\n",
      "        result = op.minimize(nll, [a_walk0, b_walk0], args=(x_data, y_data))\n",
      "        a_ml, b_ml = result[\"x\"]\n",
      "        \n",
      "        pos0 = [result[\"x\"] + 1e-4*np.random.randn(ndim) for i in range(nwalkers)]\n",
      "        sampler = emcee.EnsembleSampler(nwalkers, ndim, lnprob, args=(x_data, y_data), threads=1)\n",
      "        sampler.run_mcmc(pos0, nsteps, rstate0=np.random.get_state())\n",
      "        \n",
      "        s_fc= sampler.flatchain\n",
      "        \n",
      "             \n",
      "        a,bins,info = hist(s_fc[:,0], 207)\n",
      "       \n",
      "        id_max = argmax(a)\n",
      "        a_walk = mean([bins[id_max],bins[id_max+1]])\n",
      "        \n",
      "        b,bins,info = hist(s_fc[:,1], 207)\n",
      "        \n",
      "        id_max = argmax(b)\n",
      "        b_walk = mean([bins[id_max],bins[id_max+1]])\n",
      "        \n",
      "        f.write(str(x[i]) + ',' + str(y[i]) + ',' + '%.7f'%a_walk + ',' + '%.7f'%b_walk + '\\n')\n",
      "\n",
      "        aja=model(a_walk,b_walk,x_data, y_data)\n",
      "        plot(x_data,aja)\n",
      "        scatter(x_data,y_data)\n",
      "        show()\n",
      "    \n",
      "    f.close()\n",
      "        \n",
      "    return a_walk, b_walk\n"
     ],
     "language": "python",
     "metadata": {},
     "outputs": [],
     "prompt_number": 10
    },
    {
     "cell_type": "code",
     "collapsed": false,
     "input": [
      "\n",
      "correr_emcee()"
     ],
     "language": "python",
     "metadata": {},
     "outputs": [
      {
       "ename": "NameError",
       "evalue": "name 'correr_emcee' is not defined",
       "output_type": "pyerr",
       "traceback": [
        "\u001b[1;31m---------------------------------------------------------------------------\u001b[0m\n\u001b[1;31mNameError\u001b[0m                                 Traceback (most recent call last)",
        "\u001b[1;32m<ipython-input-1-fc89f5f9eb0e>\u001b[0m in \u001b[0;36m<module>\u001b[1;34m()\u001b[0m\n\u001b[0;32m      1\u001b[0m \u001b[1;33m\u001b[0m\u001b[0m\n\u001b[1;32m----> 2\u001b[1;33m \u001b[0mcorrer_emcee\u001b[0m\u001b[1;33m(\u001b[0m\u001b[1;33m)\u001b[0m\u001b[1;33m\u001b[0m\u001b[0m\n\u001b[0m",
        "\u001b[1;31mNameError\u001b[0m: name 'correr_emcee' is not defined"
       ]
      }
     ],
     "prompt_number": 1
    },
    {
     "cell_type": "code",
     "collapsed": false,
     "input": [
      "#samples = sampler.chain[:, 207:, :].reshape((-1, ndim))\n",
      "#samples = sampler.flatchain\n",
      "#print samples\n",
      "#print shape(samples)\n",
      "#import triangle\n",
      "#fig = triangle.corner(samples, labels=[\"$a$\", \"$b$\"],\n",
      "#                      truths=[a_walk0, b_walk0])\n",
      "#fig.savefig(\"triangle.png\")\n"
     ],
     "language": "python",
     "metadata": {},
     "outputs": []
    },
    {
     "cell_type": "code",
     "collapsed": false,
     "input": [
      "#savetxt('sampler_flatchainLineal.dat', s_fc, delimiter=',')\n",
      "#print(\"Mean acceptance fraction: {0:.3f}\".format(mean(sampler.acceptance_fraction)))"
     ],
     "language": "python",
     "metadata": {},
     "outputs": [],
     "prompt_number": 48
    }
   ],
   "metadata": {}
  }
 ]
}