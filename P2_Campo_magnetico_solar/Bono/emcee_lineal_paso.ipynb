{
 "metadata": {
  "name": "",
  "signature": "sha256:60fc9f1b242e0b684cee118af14d1a8144f130ff449c2ba0e6f8c68a5c60be25"
 },
 "nbformat": 3,
 "nbformat_minor": 0,
 "worksheets": [
  {
   "cells": [
    {
     "cell_type": "code",
     "collapsed": false,
     "input": [
      "import emcee\n",
      "import pyfits\n",
      "from pylab import*\n",
      "\n",
      "datos = pyfits.open('hmi.m_45s.magnetogram.subregion_x1y1.fits')\n",
      "cols = datos[0].data\n",
      "x = linspace(0, 397, 398)\n",
      "y = linspace(0, 198, 199)\n",
      "z = linspace(0, 206, 207)\n",
      "x_data=np.genfromtxt('times_delta.csv', delimiter=',')\n"
     ],
     "language": "python",
     "metadata": {},
     "outputs": [],
     "prompt_number": 1
    },
    {
     "cell_type": "code",
     "collapsed": false,
     "input": [
      "def model(f_walk,g_walk,h_walk,n_walk,t0_walk,x_d, y_d):\n",
      "    y_m = f_walk + g_walk*x_d + h_walk*(1 + 2/pi*arctan(n_walk*(x_d-t0_walk)))\n",
      "    return y_m\n"
     ],
     "language": "python",
     "metadata": {},
     "outputs": [],
     "prompt_number": 2
    },
    {
     "cell_type": "code",
     "collapsed": false,
     "input": [
      "#emcee functions\n",
      "def lnprior(param):\n",
      "    f_walk,g_walk,h_walk,n_walk,t0_walk= param\n",
      "    if -200.0 < f_walk < 200.0 and -1 < g_walk < 1 and -100.0 < h_walk < 100.0 and 0 < n_walk < 100 and 80 < t0_walk < 350:\n",
      "        return 0.0\n",
      "    return -inf"
     ],
     "language": "python",
     "metadata": {},
     "outputs": [],
     "prompt_number": 3
    },
    {
     "cell_type": "code",
     "collapsed": false,
     "input": [
      "def lnlike(param, x_d, y_d):\n",
      "    f_walk,g_walk,h_walk,n_walk,t0_walk= param\n",
      "    y_m = model(f_walk,g_walk,h_walk,n_walk,t0_walk, x_d, y_d)\n",
      "    chi_cuadrado= (1.0/2.0)*sum((y_d-y_m)**2) \n",
      "    return -chi_cuadrado\n"
     ],
     "language": "python",
     "metadata": {},
     "outputs": [],
     "prompt_number": 4
    },
    {
     "cell_type": "code",
     "collapsed": false,
     "input": [
      "def lnprob(param, x_d, y_d):\n",
      "    lp = lnprior(param)\n",
      "    if not isfinite(lp):\n",
      "        return -inf\n",
      "    return lp + lnlike(param, x_d, y_d)"
     ],
     "language": "python",
     "metadata": {},
     "outputs": [],
     "prompt_number": 5
    },
    {
     "cell_type": "code",
     "collapsed": false,
     "input": [
      "#iteracion de los n pixeles\n",
      "titulo = 'Ajuste Lineal paso'\n",
      "info = \"x,y son las coordenas del pixel analizado en el archivo 'hmi.m_45s.magnetogram.subregion_x1y1.fits' modelo lineal\"\n",
      "heading = 'x,y,f,g,h,n,t0' #modificar cada parametro\n",
      "f = open('Modeloemcee_linealPaso.csv','w')\n",
      "f.write(titulo+'\\n')\n",
      "f.write(info+'\\n')\n",
      "f.write(heading+'\\n')\n",
      "\n",
      "#Running emcee\n",
      "\n",
      "#TOCA CAMBIAR A IN RANGE 100 y nstetps a 2000\n",
      "\n",
      "x = [2*i+1 for i in range(100)]\n",
      "y = [ i +2 for i in range(100)]\n",
      "\n",
      "\n",
      "ndim = 5 #numero de walkers\n",
      "nwalkers = 10\n",
      "nsteps = 20000\n",
      "\n",
      "\n",
      "n=len(x)\n",
      "\n",
      "f_walk0 = np.random.random()*400 - 200\n",
      "g_walk0 = np.random.random()*2.0 - 1.0\n",
      "h_walk0 = np.random.random()*200 - 100\n",
      "n_walk0 = np.random.random()*100\n",
      "t0_walk0 = np.random.random()*270 + 80 # t0 entre 80 y 350\n",
      "\n",
      "def correr_emcee():\n",
      "    n=len(x)\n",
      "    for i in range (n):\n",
      "        \n",
      "        y_data=cols[:,x[i],y[i]]\n",
      "        #Running emcee\n",
      "        ndim = 5 #numero de walkers\n",
      "        nwalkers = 10\n",
      "        nsteps = 2000\n",
      "\n",
      "        first_guess = [f_walk0,g_walk0,h_walk0,n_walk0,t0_walk0]\n",
      "        pos0 = [first_guess+ 1e-3*np.random.randn(ndim) for i in range(nwalkers)]\n",
      "\n",
      "        sampler = emcee.EnsembleSampler(nwalkers, ndim, lnprob, args=(x_data, y_data), threads=1)\n",
      "        sampler.run_mcmc(pos0, nsteps, rstate0=np.random.get_state())\n",
      "\n",
      "        s_fc= sampler.flatchain\n",
      "        \n",
      "        f,bins,info = hist(s_fc[:,0], 207)\n",
      "        id_max = argmax(f)\n",
      "        f_walk = mean([bins[id_max],bins[id_max+1]])\n",
      "\n",
      "        g,bins,info = hist(s_fc[:,1], 207)\n",
      "        id_max = argmax(g)\n",
      "        g_walk = mean([bins[id_max],bins[id_max+1]])\n",
      "\n",
      "        h,bins,info = hist(s_fc[:,2], 207)\n",
      "        id_max = argmax(h)\n",
      "        h_walk = mean([bins[id_max],bins[id_max+1]])\n",
      "\n",
      "        n,bins,info = hist(s_fc[:,3], 207)\n",
      "        id_max = argmax(n)\n",
      "        n_walk = mean([bins[id_max],bins[id_max+1]])\n",
      "\n",
      "        t0,bins,info = hist(s_fc[:,4], 207)\n",
      "        id_max = argmax(t0)\n",
      "        t0_walk = mean([bins[id_max],bins[id_max+1]])\n",
      "\n",
      "        aja=model(f_walk,g_walk,h_walk,n_walk,t0_walk,x_data, y_data)\n",
      "        plot(x_data,aja)\n",
      "        scatter(x_data,y_data)\n",
      "        show()\n",
      "        \n",
      "        f.write(str(x[i]) + ',' + str(y[i]) + ',' + '%.7f'%f_walk + ',' + '%.7f'%g_walk + ',' + '%.7f'%h_walk + ',' + '%.7f'%n_walk + ',' + '%.7f'%t0_walk + '\\n')\n",
      "    f.close()\n",
      "    return f_walk, g_walk, h_walk, n_walk, t0_walk\n",
      "    \n"
     ],
     "language": "python",
     "metadata": {},
     "outputs": [],
     "prompt_number": 6
    },
    {
     "cell_type": "code",
     "collapsed": false,
     "input": [
      "correr_emcee()"
     ],
     "language": "python",
     "metadata": {},
     "outputs": [
      {
       "ename": "AttributeError",
       "evalue": "'numpy.ndarray' object has no attribute 'write'",
       "output_type": "pyerr",
       "traceback": [
        "\u001b[1;31m---------------------------------------------------------------------------\u001b[0m\n\u001b[1;31mAttributeError\u001b[0m                            Traceback (most recent call last)",
        "\u001b[1;32m<ipython-input-7-9f7bdfabba5e>\u001b[0m in \u001b[0;36m<module>\u001b[1;34m()\u001b[0m\n\u001b[1;32m----> 1\u001b[1;33m \u001b[0mcorrer_emcee\u001b[0m\u001b[1;33m(\u001b[0m\u001b[1;33m)\u001b[0m\u001b[1;33m\u001b[0m\u001b[0m\n\u001b[0m",
        "\u001b[1;32m<ipython-input-6-ea6610ad90fe>\u001b[0m in \u001b[0;36mcorrer_emcee\u001b[1;34m()\u001b[0m\n\u001b[0;32m     72\u001b[0m         \u001b[0mshow\u001b[0m\u001b[1;33m(\u001b[0m\u001b[1;33m)\u001b[0m\u001b[1;33m\u001b[0m\u001b[0m\n\u001b[0;32m     73\u001b[0m \u001b[1;33m\u001b[0m\u001b[0m\n\u001b[1;32m---> 74\u001b[1;33m         \u001b[0mf\u001b[0m\u001b[1;33m.\u001b[0m\u001b[0mwrite\u001b[0m\u001b[1;33m(\u001b[0m\u001b[0mstr\u001b[0m\u001b[1;33m(\u001b[0m\u001b[0mx\u001b[0m\u001b[1;33m[\u001b[0m\u001b[0mi\u001b[0m\u001b[1;33m]\u001b[0m\u001b[1;33m)\u001b[0m \u001b[1;33m+\u001b[0m \u001b[1;34m','\u001b[0m \u001b[1;33m+\u001b[0m \u001b[0mstr\u001b[0m\u001b[1;33m(\u001b[0m\u001b[0my\u001b[0m\u001b[1;33m[\u001b[0m\u001b[0mi\u001b[0m\u001b[1;33m]\u001b[0m\u001b[1;33m)\u001b[0m \u001b[1;33m+\u001b[0m \u001b[1;34m','\u001b[0m \u001b[1;33m+\u001b[0m \u001b[1;34m'%.7f'\u001b[0m\u001b[1;33m%\u001b[0m\u001b[0mf_walk\u001b[0m \u001b[1;33m+\u001b[0m \u001b[1;34m','\u001b[0m \u001b[1;33m+\u001b[0m \u001b[1;34m'%.7f'\u001b[0m\u001b[1;33m%\u001b[0m\u001b[0mg_walk\u001b[0m \u001b[1;33m+\u001b[0m \u001b[1;34m','\u001b[0m \u001b[1;33m+\u001b[0m \u001b[1;34m'%.7f'\u001b[0m\u001b[1;33m%\u001b[0m\u001b[0mh_walk\u001b[0m \u001b[1;33m+\u001b[0m \u001b[1;34m','\u001b[0m \u001b[1;33m+\u001b[0m \u001b[1;34m'%.7f'\u001b[0m\u001b[1;33m%\u001b[0m\u001b[0mn_walk\u001b[0m \u001b[1;33m+\u001b[0m \u001b[1;34m','\u001b[0m \u001b[1;33m+\u001b[0m \u001b[1;34m'%.7f'\u001b[0m\u001b[1;33m%\u001b[0m\u001b[0mt0_walk\u001b[0m \u001b[1;33m+\u001b[0m \u001b[1;34m'\\n'\u001b[0m\u001b[1;33m)\u001b[0m\u001b[1;33m\u001b[0m\u001b[0m\n\u001b[0m\u001b[0;32m     75\u001b[0m     \u001b[0mf\u001b[0m\u001b[1;33m.\u001b[0m\u001b[0mclose\u001b[0m\u001b[1;33m(\u001b[0m\u001b[1;33m)\u001b[0m\u001b[1;33m\u001b[0m\u001b[0m\n\u001b[0;32m     76\u001b[0m     \u001b[1;32mreturn\u001b[0m \u001b[0mf_walk\u001b[0m\u001b[1;33m,\u001b[0m \u001b[0mg_walk\u001b[0m\u001b[1;33m,\u001b[0m \u001b[0mh_walk\u001b[0m\u001b[1;33m,\u001b[0m \u001b[0mn_walk\u001b[0m\u001b[1;33m,\u001b[0m \u001b[0mt0_walk\u001b[0m\u001b[1;33m\u001b[0m\u001b[0m\n",
        "\u001b[1;31mAttributeError\u001b[0m: 'numpy.ndarray' object has no attribute 'write'"
       ]
      }
     ],
     "prompt_number": 7
    },
    {
     "cell_type": "code",
     "collapsed": false,
     "input": [
      "#samples = sampler.chain[:, 207:, :].reshape((-1, ndim))\n",
      "#samples = sampler.flatchain\n",
      "#print samples\n",
      "#print shape(samples)\n",
      "#import triangle\n",
      "#fig = triangle.corner(samples, labels=[\"$f$\", \"$g$\", \"$h$\", \"$n$\", \"$t0$\"],\n",
      "#                      truths=[f_walk0,g_walk0,h_walk0,n_walk0,t0_walk0,x_data, y_data])\n",
      "#fig.savefig(\"trianglePaso.png\")\n"
     ],
     "language": "python",
     "metadata": {},
     "outputs": [],
     "prompt_number": 84
    },
    {
     "cell_type": "code",
     "collapsed": false,
     "input": [
      "#savetxt('sampler_flatchain_linealpaso.dat', s_fc, delimiter=',')\n",
      "#print(\"Mean acceptance fraction: {0:.3f}\".format(mean(sampler.acceptance_fraction)))"
     ],
     "language": "python",
     "metadata": {},
     "outputs": [
      {
       "output_type": "stream",
       "stream": "stdout",
       "text": [
        "Mean acceptance fraction: 0.451\n"
       ]
      }
     ],
     "prompt_number": 73
    }
   ],
   "metadata": {}
  }
 ]
}