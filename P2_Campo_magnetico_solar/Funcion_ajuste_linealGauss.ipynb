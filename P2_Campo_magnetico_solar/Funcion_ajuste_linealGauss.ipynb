{
 "metadata": {
  "name": "",
  "signature": "sha256:2a15fae3cc3c6ce999536376b4932574d6ae4ba757935e1fd3122fe27125fe3d"
 },
 "nbformat": 3,
 "nbformat_minor": 0,
 "worksheets": [
  {
   "cells": [
    {
     "cell_type": "code",
     "collapsed": false,
     "input": [
      "%pylab inline\n",
      "import pyfits\n",
      "from scipy.optimize import curve_fit\n",
      "\n",
      "datos = pyfits.open('hmi.m_45s.magnetogram.subregion_x1y1.fits')\n",
      "cols = datos[0].data\n",
      "#arreglo para el tiempo\n",
      "tiempo=np.genfromtxt('times_delta.csv', delimiter=',')\n",
      "\n"
     ],
     "language": "python",
     "metadata": {},
     "outputs": [
      {
       "output_type": "stream",
       "stream": "stdout",
       "text": [
        "Populating the interactive namespace from numpy and matplotlib\n"
       ]
      },
      {
       "output_type": "stream",
       "stream": "stderr",
       "text": [
        "WARNING: pylab import has clobbered these variables: ['f', 'info']\n",
        "`%matplotlib` prevents importing * from pylab and numpy\n"
       ]
      }
     ],
     "prompt_number": 10
    },
    {
     "cell_type": "markdown",
     "metadata": {},
     "source": [
      "###Lineal Gaussiano\n",
      "$$B(t) = c + dt+\\frac{1}{\\sigma\\sqrt{2\\pi}}exp\\left(-\\frac{1}{2}\\left(\\frac{t-\\mu}{\\sigma}\\right)^2\\right)$$"
     ]
    },
    {
     "cell_type": "code",
     "collapsed": false,
     "input": [
      "#coordenadas del pixel seleccionado\n",
      "\n",
      "x = [2*i+1 for i in range(100)]\n",
      "y = [ i +2 for i in range(100)]\n",
      "\n",
      "\n",
      "#funcion de likelihood lineal, sin exp\n",
      "def likelihood(y_obs,y_m):\n",
      "    chi_cuadrado= (1.0/2.0)*sum((y_obs-y_m)**2) # Se esta asumiendo que los sigmas = 1\n",
      "    return -chi_cuadrado\n",
      "#funcion lineal_gauss\n",
      "def lineal_gauss(t_obs, c, d, sigma, mu):\n",
      "    n1 = sigma**2/(sqrt(2*pi))\n",
      "    n2 = 0.5*((t_obs-mu)/sigma)**2\n",
      "    return c +d*t_obs + n1*exp(-n2)\n"
     ],
     "language": "python",
     "metadata": {},
     "outputs": [],
     "prompt_number": 11
    },
    {
     "cell_type": "code",
     "collapsed": false,
     "input": [
      "#MCMC modelo lineal\n",
      "\n",
      "#modelo lineal con funci\u00f3n\n",
      "def mcmc_modelo_linealGauss(tiempo,campo):\n",
      "    c_walk = empty((0))\n",
      "    d_walk = empty((0))\n",
      "    sigma_walk = empty((0))\n",
      "    mu_walk = empty((0))\n",
      "    like_walk = empty((0))\n",
      "\n",
      "    mm = mean(campo)\n",
      "    dd = std(campo)\n",
      "    nn = (campo[-1]-campo[0])/(tiempo[-1]-tiempo[0])\n",
      "    mm_t = mean(tiempo)\n",
      "\n",
      "    # Numeros iniciales\n",
      "    c_walk = append(c_walk,random.random()*2.0*dd +mm-1.0*dd)\n",
      "    d_walk = append(d_walk,random.random()*2.0*dd +nn-1.0*dd)\n",
      "    sigma_walk = append(sigma_walk, random.random()*10+35)#*2.0**dd - 1.0*dd)\n",
      "    mu_walk = append(mu_walk, random.random()*10.0 + 95.0)\n",
      "\n",
      "    #y_inicial\n",
      "    y_i = lineal_gauss(tiempo, c_walk[0],d_walk[0],sigma_walk[0], mu_walk[0]) # y inicial\n",
      "    like_walk = append(like_walk,likelihood(campo,y_i)) # likelyhood\n",
      "    \n",
      "    iteraciones = 20000\n",
      "    \n",
      "    for i in range(iteraciones):\n",
      "        c_prime = random.normal(c_walk[i], 2.0*dd) # Desviacion estandar se asume que es 1 desde la definicion del likelyhood\n",
      "        d_prime = random.normal(d_walk[i], 2.0*dd)\n",
      "        sigma_prime = random.normal(sigma_walk[i], 5)\n",
      "        mu_prime = random.normal(mu_walk[i],5)#mm_t/5.0)\n",
      "\n",
      "        y_init = lineal_gauss(tiempo, c_walk[i], d_walk[i], sigma_walk[i], mu_walk[i])\n",
      "        y_prime = lineal_gauss(tiempo, c_prime, d_prime, sigma_prime, mu_prime)\n",
      "\n",
      "        like_prime = likelihood(campo, y_prime)\n",
      "        like_init = likelihood(campo, y_init)\n",
      "\n",
      "\n",
      "        alpha = like_prime-like_init \n",
      "\n",
      "        if(alpha>=0.0): # likelihood definido sin exp\n",
      "                c_walk = append(c_walk,c_prime)\n",
      "                d_walk = append(d_walk,d_prime)\n",
      "                sigma_walk = append(sigma_walk,sigma_prime)\n",
      "                mu_walk = append(mu_walk,mu_prime)\n",
      "                like_walk = append(like_walk, like_prime)\n",
      "        else:\n",
      "            beta = random.random()\n",
      "            if(alpha>=beta):\n",
      "                c_walk = append(c_walk,c_prime)\n",
      "                d_walk = append(d_walk,d_prime)\n",
      "                sigma_walk = append(sigma_walk,sigma_prime)\n",
      "                mu_walk = append(mu_walk,mu_prime)\n",
      "                like_walk = append(like_walk, like_prime)\n",
      "            else:\n",
      "                c_walk = append(c_walk, c_walk[i])\n",
      "                d_walk = append(d_walk, d_walk[i])\n",
      "                sigma_walk = append(sigma_walk,sigma_walk[i])\n",
      "                mu_walk = append(mu_walk,mu_walk[i])\n",
      "                like_walk = append(like_walk, like_walk[i])\n",
      "    return c_walk, d_walk, sigma_walk, mu_walk, like_walk"
     ],
     "language": "python",
     "metadata": {},
     "outputs": [],
     "prompt_number": 12
    },
    {
     "cell_type": "code",
     "collapsed": false,
     "input": [
      "def fit_linealGauss(c_walk, d_walk, sigma_walk, mu_walk, like_walk):\n",
      "    max_likelihood_id = argmax(like_walk)\n",
      "    best_like = like_walk[max_likelihood_id]\n",
      "    best_c = c_walk[max_likelihood_id]\n",
      "    best_d = d_walk[max_likelihood_id]\n",
      "    best_sigma = sigma_walk[max_likelihood_id]\n",
      "    best_mu = mu_walk[max_likelihood_id]\n",
      "    best_campo = lineal_gauss(tiempo, best_c, best_d, best_sigma, best_mu)\n",
      "    \n",
      "    return best_c, best_d, best_sigma, best_mu, best_campo, best_like\n",
      "    "
     ],
     "language": "python",
     "metadata": {},
     "outputs": [],
     "prompt_number": 13
    },
    {
     "cell_type": "code",
     "collapsed": false,
     "input": [
      "#iteracion de los n pixeles\n",
      "titulo = 'Ajuste Lineal Gauss'\n",
      "info = \"x,y son las coordenas del pixel analizado en el archivo 'hmi.m_45s.magnetogram.subregion_x1y1.fits'. best_b y best_a son los parametros de maximo likelihood para el modelo lineal\"\n",
      "heading = 'x,y,best_likelihood,best_c,best_d,best_sigma,best_mu' #modificar cada parametro\n",
      "f = open('Modelo_Gauss.csv','w')\n",
      "f.write(titulo+'\\n')\n",
      "f.write(info+'\\n')\n",
      "f.write(heading+'\\n')\n",
      "\n",
      "n=20\n",
      "for i in range(n):\n",
      "    campo=cols[:,x[i],y[i]]\n",
      "    \n",
      "    c_walk, d_walk, sigma_walk, mu_walk, like_walk = mcmc_modelo_linealGauss(tiempo, campo)\n",
      "\n",
      "    best_c, best_d, best_sigma, best_mu, best_campo, best_like = fit_linealGauss(c_walk, d_walk, sigma_walk, mu_walk, like_walk) \n",
      "    \n",
      "    f.write(str(x[i]) + ',' + str(y[i]) + ',' + '%.7f'%best_like + ',' + '%.7f'%best_c + ',' + '%.7f'%best_d + ',' + '%.7f'%best_sigma + ',' + '%.7f'%best_mu +  '\\n')\n",
      "    \n",
      "    #plot(tiempo,best_campo,'g-')\n",
      "    #plot(tiempo,campo,'bo')\n",
      "    #show()\n",
      "f.close()"
     ],
     "language": "python",
     "metadata": {},
     "outputs": [],
     "prompt_number": 14
    },
    {
     "cell_type": "code",
     "collapsed": false,
     "input": [
      "!cat Modelo_Gauss.csv"
     ],
     "language": "python",
     "metadata": {},
     "outputs": [
      {
       "output_type": "stream",
       "stream": "stdout",
       "text": [
        "Ajuste Lineal Gauss\r\n",
        "x,y son las coordenas del pixel analizado en el archivo 'hmi.m_45s.magnetogram.subregion_x1y1.fits'. best_b y best_a son los parametros de maximo likelihood para el modelo lineal\r\n",
        "x,y,best_likelihood,best_c,best_d,best_sigma,best_mu\r\n",
        "1,2,-3997.7598542,18.3838995,-0.0022526,7.4357304,62.4556964\r\n",
        "3,3,-4793.9459271,41.6869244,-0.0550751,1.8993804,106.0208741\r\n",
        "5,4,-38188.3068857,60.1789907,-0.1126411,13.4086871,107.8957478\r\n",
        "7,5,-66384.0679160,18.4021552,0.0066343,20.5745839,117.3270755\r\n",
        "9,6,-15299.3644369,46.0725400,-0.1183798,11.2788732,56.7768511\r\n",
        "11,7,-3066.0311934,18.0169056,-0.0065417,8.3348639,117.2491342\r\n",
        "13,8,-6290.3218313,14.9543043,0.0089273,-2.5084595,101.1124298\r\n",
        "15,9,-11403.5788497,22.1915966,0.0266503,1.8589488,108.6761127\r\n",
        "17,10,-40912.9959638,51.8629259,-0.0748534,6.8160693,110.7532936\r\n",
        "19,11,-21115.1075490,42.2017194,-0.0435871,9.0927123,102.7373734\r\n",
        "21,12,-5336.0034249,40.1260576,-0.0126184,1.0311886,156.3511653\r\n",
        "23,13,-6874.8957762,25.3121592,0.0126472,6.8423755,86.4412521\r\n",
        "25,14,-11814.5557861,32.9412526,-0.0387376,-2.0824364,91.5910789\r\n",
        "27,15,-10740.1854755,19.0341194,-0.0279599,10.4819272,99.5870556\r\n",
        "29,16,-4573.9844720,16.3004921,-0.0454667,-7.0090448,84.1987139\r\n",
        "31,17,-3778.8772615,11.7197742,-0.0436901,6.2081420,101.9964493\r\n",
        "33,18,-8603.7172800,-3.1727752,-0.0203106,-6.2267109,92.6043481\r\n",
        "35,19,-11424.6738639,-3.8574882,-0.0330609,4.3925380,108.6777733\r\n",
        "37,20,-14331.6253227,0.8805975,-0.0448604,5.1146088,86.2735795\r\n",
        "39,21,-25597.5167234,-0.2162000,-0.0301801,0.4532591,115.9643494\r\n"
       ]
      }
     ],
     "prompt_number": 15
    },
    {
     "cell_type": "code",
     "collapsed": false,
     "input": [],
     "language": "python",
     "metadata": {},
     "outputs": []
    }
   ],
   "metadata": {}
  }
 ]
}